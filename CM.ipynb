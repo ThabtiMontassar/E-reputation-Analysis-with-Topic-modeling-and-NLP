{
  "nbformat": 4,
  "nbformat_minor": 0,
  "metadata": {
    "colab": {
      "name": "Moez_CM",
      "provenance": [],
      "collapsed_sections": [],
      "toc_visible": true
    },
    "kernelspec": {
      "name": "python3",
      "display_name": "Python 3"
    }
  },
  "cells": [
    {
      "cell_type": "code",
      "metadata": {
        "id": "flw5MbYtMvWA",
        "colab_type": "code",
        "outputId": "5c4c093b-a906-4697-d2fc-81615a32519e",
        "colab": {
          "base_uri": "https://localhost:8080/",
          "height": 1000
        }
      },
      "source": [
        "import pandas as pd\n",
        "import seaborn as sns\n",
        "import re\n",
        "import string\n",
        "import warnings\n",
        "!pip install pyspellchecker\n",
        "from spellchecker import SpellChecker\n",
        "import spacy\n",
        "import nltk\n",
        "nltk.download(\"all\")\n",
        "import numpy as np\n",
        "from nltk.corpus import stopwords\n",
        "from nltk.stem import PorterStemmer\n",
        "from sklearn.feature_extraction.text import CountVectorizer\n",
        "from sklearn.feature_extraction.text import TfidfTransformer\n",
        "from sklearn.ensemble import RandomForestClassifier\n",
        "from sklearn.metrics import classification_report\n",
        "from sklearn.preprocessing import LabelEncoder\n",
        "import matplotlib.pyplot as plt\n",
        "% matplotlib inline\n",
        "\n",
        "sns.set_style(\"darkgrid\")\n",
        "warnings.filterwarnings(\"ignore\")"
      ],
      "execution_count": 0,
      "outputs": [
        {
          "output_type": "stream",
          "text": [
            "Requirement already satisfied: pyspellchecker in /usr/local/lib/python3.6/dist-packages (0.5.4)\n",
            "[nltk_data] Downloading collection 'all'\n",
            "[nltk_data]    | \n",
            "[nltk_data]    | Downloading package abc to /root/nltk_data...\n",
            "[nltk_data]    |   Package abc is already up-to-date!\n",
            "[nltk_data]    | Downloading package alpino to /root/nltk_data...\n",
            "[nltk_data]    |   Package alpino is already up-to-date!\n",
            "[nltk_data]    | Downloading package biocreative_ppi to\n",
            "[nltk_data]    |     /root/nltk_data...\n",
            "[nltk_data]    |   Package biocreative_ppi is already up-to-date!\n",
            "[nltk_data]    | Downloading package brown to /root/nltk_data...\n",
            "[nltk_data]    |   Package brown is already up-to-date!\n",
            "[nltk_data]    | Downloading package brown_tei to /root/nltk_data...\n",
            "[nltk_data]    |   Package brown_tei is already up-to-date!\n",
            "[nltk_data]    | Downloading package cess_cat to /root/nltk_data...\n",
            "[nltk_data]    |   Package cess_cat is already up-to-date!\n",
            "[nltk_data]    | Downloading package cess_esp to /root/nltk_data...\n",
            "[nltk_data]    |   Package cess_esp is already up-to-date!\n",
            "[nltk_data]    | Downloading package chat80 to /root/nltk_data...\n",
            "[nltk_data]    |   Package chat80 is already up-to-date!\n",
            "[nltk_data]    | Downloading package city_database to\n",
            "[nltk_data]    |     /root/nltk_data...\n",
            "[nltk_data]    |   Package city_database is already up-to-date!\n",
            "[nltk_data]    | Downloading package cmudict to /root/nltk_data...\n",
            "[nltk_data]    |   Package cmudict is already up-to-date!\n",
            "[nltk_data]    | Downloading package comparative_sentences to\n",
            "[nltk_data]    |     /root/nltk_data...\n",
            "[nltk_data]    |   Package comparative_sentences is already up-to-\n",
            "[nltk_data]    |       date!\n",
            "[nltk_data]    | Downloading package comtrans to /root/nltk_data...\n",
            "[nltk_data]    |   Package comtrans is already up-to-date!\n",
            "[nltk_data]    | Downloading package conll2000 to /root/nltk_data...\n",
            "[nltk_data]    |   Package conll2000 is already up-to-date!\n",
            "[nltk_data]    | Downloading package conll2002 to /root/nltk_data...\n",
            "[nltk_data]    |   Package conll2002 is already up-to-date!\n",
            "[nltk_data]    | Downloading package conll2007 to /root/nltk_data...\n",
            "[nltk_data]    |   Package conll2007 is already up-to-date!\n",
            "[nltk_data]    | Downloading package crubadan to /root/nltk_data...\n",
            "[nltk_data]    |   Package crubadan is already up-to-date!\n",
            "[nltk_data]    | Downloading package dependency_treebank to\n",
            "[nltk_data]    |     /root/nltk_data...\n",
            "[nltk_data]    |   Package dependency_treebank is already up-to-date!\n",
            "[nltk_data]    | Downloading package dolch to /root/nltk_data...\n",
            "[nltk_data]    |   Package dolch is already up-to-date!\n",
            "[nltk_data]    | Downloading package europarl_raw to\n",
            "[nltk_data]    |     /root/nltk_data...\n",
            "[nltk_data]    |   Package europarl_raw is already up-to-date!\n",
            "[nltk_data]    | Downloading package floresta to /root/nltk_data...\n",
            "[nltk_data]    |   Package floresta is already up-to-date!\n",
            "[nltk_data]    | Downloading package framenet_v15 to\n",
            "[nltk_data]    |     /root/nltk_data...\n",
            "[nltk_data]    |   Package framenet_v15 is already up-to-date!\n",
            "[nltk_data]    | Downloading package framenet_v17 to\n",
            "[nltk_data]    |     /root/nltk_data...\n",
            "[nltk_data]    |   Package framenet_v17 is already up-to-date!\n",
            "[nltk_data]    | Downloading package gazetteers to /root/nltk_data...\n",
            "[nltk_data]    |   Package gazetteers is already up-to-date!\n",
            "[nltk_data]    | Downloading package genesis to /root/nltk_data...\n",
            "[nltk_data]    |   Package genesis is already up-to-date!\n",
            "[nltk_data]    | Downloading package gutenberg to /root/nltk_data...\n",
            "[nltk_data]    |   Package gutenberg is already up-to-date!\n",
            "[nltk_data]    | Downloading package ieer to /root/nltk_data...\n",
            "[nltk_data]    |   Package ieer is already up-to-date!\n",
            "[nltk_data]    | Downloading package inaugural to /root/nltk_data...\n",
            "[nltk_data]    |   Package inaugural is already up-to-date!\n",
            "[nltk_data]    | Downloading package indian to /root/nltk_data...\n",
            "[nltk_data]    |   Package indian is already up-to-date!\n",
            "[nltk_data]    | Downloading package jeita to /root/nltk_data...\n",
            "[nltk_data]    |   Package jeita is already up-to-date!\n",
            "[nltk_data]    | Downloading package kimmo to /root/nltk_data...\n",
            "[nltk_data]    |   Package kimmo is already up-to-date!\n",
            "[nltk_data]    | Downloading package knbc to /root/nltk_data...\n",
            "[nltk_data]    |   Package knbc is already up-to-date!\n",
            "[nltk_data]    | Downloading package lin_thesaurus to\n",
            "[nltk_data]    |     /root/nltk_data...\n",
            "[nltk_data]    |   Package lin_thesaurus is already up-to-date!\n",
            "[nltk_data]    | Downloading package mac_morpho to /root/nltk_data...\n",
            "[nltk_data]    |   Package mac_morpho is already up-to-date!\n",
            "[nltk_data]    | Downloading package machado to /root/nltk_data...\n",
            "[nltk_data]    |   Package machado is already up-to-date!\n",
            "[nltk_data]    | Downloading package masc_tagged to /root/nltk_data...\n",
            "[nltk_data]    |   Package masc_tagged is already up-to-date!\n",
            "[nltk_data]    | Downloading package moses_sample to\n",
            "[nltk_data]    |     /root/nltk_data...\n",
            "[nltk_data]    |   Package moses_sample is already up-to-date!\n",
            "[nltk_data]    | Downloading package movie_reviews to\n",
            "[nltk_data]    |     /root/nltk_data...\n",
            "[nltk_data]    |   Package movie_reviews is already up-to-date!\n",
            "[nltk_data]    | Downloading package names to /root/nltk_data...\n",
            "[nltk_data]    |   Package names is already up-to-date!\n",
            "[nltk_data]    | Downloading package nombank.1.0 to /root/nltk_data...\n",
            "[nltk_data]    |   Package nombank.1.0 is already up-to-date!\n",
            "[nltk_data]    | Downloading package nps_chat to /root/nltk_data...\n",
            "[nltk_data]    |   Package nps_chat is already up-to-date!\n",
            "[nltk_data]    | Downloading package omw to /root/nltk_data...\n",
            "[nltk_data]    |   Package omw is already up-to-date!\n",
            "[nltk_data]    | Downloading package opinion_lexicon to\n",
            "[nltk_data]    |     /root/nltk_data...\n",
            "[nltk_data]    |   Package opinion_lexicon is already up-to-date!\n",
            "[nltk_data]    | Downloading package paradigms to /root/nltk_data...\n",
            "[nltk_data]    |   Package paradigms is already up-to-date!\n",
            "[nltk_data]    | Downloading package pil to /root/nltk_data...\n",
            "[nltk_data]    |   Package pil is already up-to-date!\n",
            "[nltk_data]    | Downloading package pl196x to /root/nltk_data...\n",
            "[nltk_data]    |   Package pl196x is already up-to-date!\n",
            "[nltk_data]    | Downloading package ppattach to /root/nltk_data...\n",
            "[nltk_data]    |   Package ppattach is already up-to-date!\n",
            "[nltk_data]    | Downloading package problem_reports to\n",
            "[nltk_data]    |     /root/nltk_data...\n",
            "[nltk_data]    |   Package problem_reports is already up-to-date!\n",
            "[nltk_data]    | Downloading package propbank to /root/nltk_data...\n",
            "[nltk_data]    |   Package propbank is already up-to-date!\n",
            "[nltk_data]    | Downloading package ptb to /root/nltk_data...\n",
            "[nltk_data]    |   Package ptb is already up-to-date!\n",
            "[nltk_data]    | Downloading package product_reviews_1 to\n",
            "[nltk_data]    |     /root/nltk_data...\n",
            "[nltk_data]    |   Package product_reviews_1 is already up-to-date!\n",
            "[nltk_data]    | Downloading package product_reviews_2 to\n",
            "[nltk_data]    |     /root/nltk_data...\n",
            "[nltk_data]    |   Package product_reviews_2 is already up-to-date!\n",
            "[nltk_data]    | Downloading package pros_cons to /root/nltk_data...\n",
            "[nltk_data]    |   Package pros_cons is already up-to-date!\n",
            "[nltk_data]    | Downloading package qc to /root/nltk_data...\n",
            "[nltk_data]    |   Package qc is already up-to-date!\n",
            "[nltk_data]    | Downloading package reuters to /root/nltk_data...\n",
            "[nltk_data]    |   Package reuters is already up-to-date!\n",
            "[nltk_data]    | Downloading package rte to /root/nltk_data...\n",
            "[nltk_data]    |   Package rte is already up-to-date!\n",
            "[nltk_data]    | Downloading package semcor to /root/nltk_data...\n",
            "[nltk_data]    |   Package semcor is already up-to-date!\n",
            "[nltk_data]    | Downloading package senseval to /root/nltk_data...\n",
            "[nltk_data]    |   Package senseval is already up-to-date!\n",
            "[nltk_data]    | Downloading package sentiwordnet to\n",
            "[nltk_data]    |     /root/nltk_data...\n",
            "[nltk_data]    |   Package sentiwordnet is already up-to-date!\n",
            "[nltk_data]    | Downloading package sentence_polarity to\n",
            "[nltk_data]    |     /root/nltk_data...\n",
            "[nltk_data]    |   Package sentence_polarity is already up-to-date!\n",
            "[nltk_data]    | Downloading package shakespeare to /root/nltk_data...\n",
            "[nltk_data]    |   Package shakespeare is already up-to-date!\n",
            "[nltk_data]    | Downloading package sinica_treebank to\n",
            "[nltk_data]    |     /root/nltk_data...\n",
            "[nltk_data]    |   Package sinica_treebank is already up-to-date!\n",
            "[nltk_data]    | Downloading package smultron to /root/nltk_data...\n",
            "[nltk_data]    |   Package smultron is already up-to-date!\n",
            "[nltk_data]    | Downloading package state_union to /root/nltk_data...\n",
            "[nltk_data]    |   Package state_union is already up-to-date!\n",
            "[nltk_data]    | Downloading package stopwords to /root/nltk_data...\n",
            "[nltk_data]    |   Package stopwords is already up-to-date!\n",
            "[nltk_data]    | Downloading package subjectivity to\n",
            "[nltk_data]    |     /root/nltk_data...\n",
            "[nltk_data]    |   Package subjectivity is already up-to-date!\n",
            "[nltk_data]    | Downloading package swadesh to /root/nltk_data...\n",
            "[nltk_data]    |   Package swadesh is already up-to-date!\n",
            "[nltk_data]    | Downloading package switchboard to /root/nltk_data...\n",
            "[nltk_data]    |   Package switchboard is already up-to-date!\n",
            "[nltk_data]    | Downloading package timit to /root/nltk_data...\n",
            "[nltk_data]    |   Package timit is already up-to-date!\n",
            "[nltk_data]    | Downloading package toolbox to /root/nltk_data...\n",
            "[nltk_data]    |   Package toolbox is already up-to-date!\n",
            "[nltk_data]    | Downloading package treebank to /root/nltk_data...\n",
            "[nltk_data]    |   Package treebank is already up-to-date!\n",
            "[nltk_data]    | Downloading package twitter_samples to\n",
            "[nltk_data]    |     /root/nltk_data...\n",
            "[nltk_data]    |   Package twitter_samples is already up-to-date!\n",
            "[nltk_data]    | Downloading package udhr to /root/nltk_data...\n",
            "[nltk_data]    |   Package udhr is already up-to-date!\n",
            "[nltk_data]    | Downloading package udhr2 to /root/nltk_data...\n",
            "[nltk_data]    |   Package udhr2 is already up-to-date!\n",
            "[nltk_data]    | Downloading package unicode_samples to\n",
            "[nltk_data]    |     /root/nltk_data...\n",
            "[nltk_data]    |   Package unicode_samples is already up-to-date!\n",
            "[nltk_data]    | Downloading package universal_treebanks_v20 to\n",
            "[nltk_data]    |     /root/nltk_data...\n",
            "[nltk_data]    |   Package universal_treebanks_v20 is already up-to-\n",
            "[nltk_data]    |       date!\n",
            "[nltk_data]    | Downloading package verbnet to /root/nltk_data...\n",
            "[nltk_data]    |   Package verbnet is already up-to-date!\n",
            "[nltk_data]    | Downloading package verbnet3 to /root/nltk_data...\n",
            "[nltk_data]    |   Package verbnet3 is already up-to-date!\n",
            "[nltk_data]    | Downloading package webtext to /root/nltk_data...\n",
            "[nltk_data]    |   Package webtext is already up-to-date!\n",
            "[nltk_data]    | Downloading package wordnet to /root/nltk_data...\n",
            "[nltk_data]    |   Package wordnet is already up-to-date!\n",
            "[nltk_data]    | Downloading package wordnet_ic to /root/nltk_data...\n",
            "[nltk_data]    |   Package wordnet_ic is already up-to-date!\n",
            "[nltk_data]    | Downloading package words to /root/nltk_data...\n",
            "[nltk_data]    |   Package words is already up-to-date!\n",
            "[nltk_data]    | Downloading package ycoe to /root/nltk_data...\n",
            "[nltk_data]    |   Package ycoe is already up-to-date!\n",
            "[nltk_data]    | Downloading package rslp to /root/nltk_data...\n",
            "[nltk_data]    |   Package rslp is already up-to-date!\n",
            "[nltk_data]    | Downloading package maxent_treebank_pos_tagger to\n",
            "[nltk_data]    |     /root/nltk_data...\n",
            "[nltk_data]    |   Package maxent_treebank_pos_tagger is already up-\n",
            "[nltk_data]    |       to-date!\n",
            "[nltk_data]    | Downloading package universal_tagset to\n",
            "[nltk_data]    |     /root/nltk_data...\n",
            "[nltk_data]    |   Package universal_tagset is already up-to-date!\n",
            "[nltk_data]    | Downloading package maxent_ne_chunker to\n",
            "[nltk_data]    |     /root/nltk_data...\n",
            "[nltk_data]    |   Package maxent_ne_chunker is already up-to-date!\n",
            "[nltk_data]    | Downloading package punkt to /root/nltk_data...\n",
            "[nltk_data]    |   Package punkt is already up-to-date!\n",
            "[nltk_data]    | Downloading package book_grammars to\n",
            "[nltk_data]    |     /root/nltk_data...\n",
            "[nltk_data]    |   Package book_grammars is already up-to-date!\n",
            "[nltk_data]    | Downloading package sample_grammars to\n",
            "[nltk_data]    |     /root/nltk_data...\n",
            "[nltk_data]    |   Package sample_grammars is already up-to-date!\n",
            "[nltk_data]    | Downloading package spanish_grammars to\n",
            "[nltk_data]    |     /root/nltk_data...\n",
            "[nltk_data]    |   Package spanish_grammars is already up-to-date!\n",
            "[nltk_data]    | Downloading package basque_grammars to\n",
            "[nltk_data]    |     /root/nltk_data...\n",
            "[nltk_data]    |   Package basque_grammars is already up-to-date!\n",
            "[nltk_data]    | Downloading package large_grammars to\n",
            "[nltk_data]    |     /root/nltk_data...\n",
            "[nltk_data]    |   Package large_grammars is already up-to-date!\n",
            "[nltk_data]    | Downloading package tagsets to /root/nltk_data...\n",
            "[nltk_data]    |   Package tagsets is already up-to-date!\n",
            "[nltk_data]    | Downloading package snowball_data to\n",
            "[nltk_data]    |     /root/nltk_data...\n",
            "[nltk_data]    |   Package snowball_data is already up-to-date!\n",
            "[nltk_data]    | Downloading package bllip_wsj_no_aux to\n",
            "[nltk_data]    |     /root/nltk_data...\n",
            "[nltk_data]    |   Package bllip_wsj_no_aux is already up-to-date!\n",
            "[nltk_data]    | Downloading package word2vec_sample to\n",
            "[nltk_data]    |     /root/nltk_data...\n",
            "[nltk_data]    |   Package word2vec_sample is already up-to-date!\n",
            "[nltk_data]    | Downloading package panlex_swadesh to\n",
            "[nltk_data]    |     /root/nltk_data...\n",
            "[nltk_data]    |   Package panlex_swadesh is already up-to-date!\n",
            "[nltk_data]    | Downloading package mte_teip5 to /root/nltk_data...\n",
            "[nltk_data]    |   Package mte_teip5 is already up-to-date!\n",
            "[nltk_data]    | Downloading package averaged_perceptron_tagger to\n",
            "[nltk_data]    |     /root/nltk_data...\n",
            "[nltk_data]    |   Package averaged_perceptron_tagger is already up-\n",
            "[nltk_data]    |       to-date!\n",
            "[nltk_data]    | Downloading package averaged_perceptron_tagger_ru to\n",
            "[nltk_data]    |     /root/nltk_data...\n",
            "[nltk_data]    |   Package averaged_perceptron_tagger_ru is already\n",
            "[nltk_data]    |       up-to-date!\n",
            "[nltk_data]    | Downloading package perluniprops to\n",
            "[nltk_data]    |     /root/nltk_data...\n",
            "[nltk_data]    |   Package perluniprops is already up-to-date!\n",
            "[nltk_data]    | Downloading package nonbreaking_prefixes to\n",
            "[nltk_data]    |     /root/nltk_data...\n",
            "[nltk_data]    |   Package nonbreaking_prefixes is already up-to-date!\n",
            "[nltk_data]    | Downloading package vader_lexicon to\n",
            "[nltk_data]    |     /root/nltk_data...\n",
            "[nltk_data]    |   Package vader_lexicon is already up-to-date!\n",
            "[nltk_data]    | Downloading package porter_test to /root/nltk_data...\n",
            "[nltk_data]    |   Package porter_test is already up-to-date!\n",
            "[nltk_data]    | Downloading package wmt15_eval to /root/nltk_data...\n",
            "[nltk_data]    |   Package wmt15_eval is already up-to-date!\n",
            "[nltk_data]    | Downloading package mwa_ppdb to /root/nltk_data...\n",
            "[nltk_data]    |   Package mwa_ppdb is already up-to-date!\n",
            "[nltk_data]    | \n",
            "[nltk_data]  Done downloading collection all\n"
          ],
          "name": "stdout"
        }
      ]
    },
    {
      "cell_type": "code",
      "metadata": {
        "id": "tCjWCDQfNaq7",
        "colab_type": "code",
        "colab": {}
      },
      "source": [
        "df = pd.read_csv(\"Commentaires.csv\")"
      ],
      "execution_count": 0,
      "outputs": []
    },
    {
      "cell_type": "markdown",
      "metadata": {
        "id": "dkF38Q9HNkBB",
        "colab_type": "text"
      },
      "source": [
        "# Analyse"
      ]
    },
    {
      "cell_type": "code",
      "metadata": {
        "id": "sje-Cl9wNi1f",
        "colab_type": "code",
        "outputId": "d4a1e8de-e60e-4444-fac6-c41663c39cae",
        "colab": {
          "base_uri": "https://localhost:8080/",
          "height": 204
        }
      },
      "source": [
        "df.head()"
      ],
      "execution_count": 0,
      "outputs": [
        {
          "output_type": "execute_result",
          "data": {
            "text/html": [
              "<div>\n",
              "<style scoped>\n",
              "    .dataframe tbody tr th:only-of-type {\n",
              "        vertical-align: middle;\n",
              "    }\n",
              "\n",
              "    .dataframe tbody tr th {\n",
              "        vertical-align: top;\n",
              "    }\n",
              "\n",
              "    .dataframe thead th {\n",
              "        text-align: right;\n",
              "    }\n",
              "</style>\n",
              "<table border=\"1\" class=\"dataframe\">\n",
              "  <thead>\n",
              "    <tr style=\"text-align: right;\">\n",
              "      <th></th>\n",
              "      <th>review_body</th>\n",
              "      <th>review_date</th>\n",
              "    </tr>\n",
              "  </thead>\n",
              "  <tbody>\n",
              "    <tr>\n",
              "      <th>0</th>\n",
              "      <td>Have to admit I am not a great fan of McDonald...</td>\n",
              "      <td>February 29, 2020</td>\n",
              "    </tr>\n",
              "    <tr>\n",
              "      <th>1</th>\n",
              "      <td>Food was fine. Staff were undesirably rude!Fam...</td>\n",
              "      <td>February 15, 2020</td>\n",
              "    </tr>\n",
              "    <tr>\n",
              "      <th>2</th>\n",
              "      <td>We went here to enjoy the Golden Arches fries....</td>\n",
              "      <td>November 5, 2019</td>\n",
              "    </tr>\n",
              "    <tr>\n",
              "      <th>3</th>\n",
              "      <td>When I visited this McDonalds I was excited to...</td>\n",
              "      <td>November 2, 2019</td>\n",
              "    </tr>\n",
              "    <tr>\n",
              "      <th>4</th>\n",
              "      <td>This restaurent was a mad uprade from the one ...</td>\n",
              "      <td>October 2, 2019</td>\n",
              "    </tr>\n",
              "  </tbody>\n",
              "</table>\n",
              "</div>"
            ],
            "text/plain": [
              "                                         review_body        review_date\n",
              "0  Have to admit I am not a great fan of McDonald...  February 29, 2020\n",
              "1  Food was fine. Staff were undesirably rude!Fam...  February 15, 2020\n",
              "2  We went here to enjoy the Golden Arches fries....   November 5, 2019\n",
              "3  When I visited this McDonalds I was excited to...   November 2, 2019\n",
              "4  This restaurent was a mad uprade from the one ...    October 2, 2019"
            ]
          },
          "metadata": {
            "tags": []
          },
          "execution_count": 649
        }
      ]
    },
    {
      "cell_type": "code",
      "metadata": {
        "id": "7HuKeKm4Nof4",
        "colab_type": "code",
        "outputId": "7aa6f59c-7210-4c8e-a776-3072f88f4e75",
        "colab": {
          "base_uri": "https://localhost:8080/",
          "height": 204
        }
      },
      "source": [
        "df.tail()"
      ],
      "execution_count": 0,
      "outputs": [
        {
          "output_type": "execute_result",
          "data": {
            "text/html": [
              "<div>\n",
              "<style scoped>\n",
              "    .dataframe tbody tr th:only-of-type {\n",
              "        vertical-align: middle;\n",
              "    }\n",
              "\n",
              "    .dataframe tbody tr th {\n",
              "        vertical-align: top;\n",
              "    }\n",
              "\n",
              "    .dataframe thead th {\n",
              "        text-align: right;\n",
              "    }\n",
              "</style>\n",
              "<table border=\"1\" class=\"dataframe\">\n",
              "  <thead>\n",
              "    <tr style=\"text-align: right;\">\n",
              "      <th></th>\n",
              "      <th>review_body</th>\n",
              "      <th>review_date</th>\n",
              "    </tr>\n",
              "  </thead>\n",
              "  <tbody>\n",
              "    <tr>\n",
              "      <th>535</th>\n",
              "      <td>This place was packed for lunch. More register...</td>\n",
              "      <td>January 31, 2012</td>\n",
              "    </tr>\n",
              "    <tr>\n",
              "      <th>536</th>\n",
              "      <td>Well if you're run out of idea or you need to ...</td>\n",
              "      <td>December 14, 2011</td>\n",
              "    </tr>\n",
              "    <tr>\n",
              "      <th>537</th>\n",
              "      <td>We were surprised to find a McD in Paris with ...</td>\n",
              "      <td>September 10, 2009</td>\n",
              "    </tr>\n",
              "    <tr>\n",
              "      <th>538</th>\n",
              "      <td>We stopped when we were walking by because we ...</td>\n",
              "      <td>February 7, 2009</td>\n",
              "    </tr>\n",
              "    <tr>\n",
              "      <th>539</th>\n",
              "      <td>Quarter Pounder with Cheese cravings happen.</td>\n",
              "      <td>June 22, 2008</td>\n",
              "    </tr>\n",
              "  </tbody>\n",
              "</table>\n",
              "</div>"
            ],
            "text/plain": [
              "                                           review_body         review_date\n",
              "535  This place was packed for lunch. More register...    January 31, 2012\n",
              "536  Well if you're run out of idea or you need to ...   December 14, 2011\n",
              "537  We were surprised to find a McD in Paris with ...  September 10, 2009\n",
              "538  We stopped when we were walking by because we ...    February 7, 2009\n",
              "539       Quarter Pounder with Cheese cravings happen.       June 22, 2008"
            ]
          },
          "metadata": {
            "tags": []
          },
          "execution_count": 650
        }
      ]
    },
    {
      "cell_type": "code",
      "metadata": {
        "id": "2x5ZZHC-Npin",
        "colab_type": "code",
        "outputId": "6b3f87b6-6535-4458-b575-791cbc07fa92",
        "colab": {
          "base_uri": "https://localhost:8080/",
          "height": 34
        }
      },
      "source": [
        "print(\"Formde du dataframe : \", df.shape)"
      ],
      "execution_count": 0,
      "outputs": [
        {
          "output_type": "stream",
          "text": [
            "Formde du dataframe :  (540, 2)\n"
          ],
          "name": "stdout"
        }
      ]
    },
    {
      "cell_type": "code",
      "metadata": {
        "id": "HyKf3PTaNs5g",
        "colab_type": "code",
        "outputId": "3995dd20-edac-46e1-8161-3dc263140e49",
        "colab": {
          "base_uri": "https://localhost:8080/",
          "height": 68
        }
      },
      "source": [
        "df.isna().sum()"
      ],
      "execution_count": 0,
      "outputs": [
        {
          "output_type": "execute_result",
          "data": {
            "text/plain": [
              "review_body    0\n",
              "review_date    0\n",
              "dtype: int64"
            ]
          },
          "metadata": {
            "tags": []
          },
          "execution_count": 652
        }
      ]
    },
    {
      "cell_type": "code",
      "metadata": {
        "id": "NxQDnQskNu2Q",
        "colab_type": "code",
        "outputId": "743f6674-9044-4956-b22b-56e3382bce8e",
        "colab": {
          "base_uri": "https://localhost:8080/",
          "height": 102
        }
      },
      "source": [
        "print(\"Pourcentage des valeurs nulles :\")\n",
        "print(\"Train set : \")\n",
        "print((df.isna().sum() / df.shape[0]) * 100)"
      ],
      "execution_count": 0,
      "outputs": [
        {
          "output_type": "stream",
          "text": [
            "Pourcentage des valeurs nulles :\n",
            "Train set : \n",
            "review_body    0.0\n",
            "review_date    0.0\n",
            "dtype: float64\n"
          ],
          "name": "stdout"
        }
      ]
    },
    {
      "cell_type": "code",
      "metadata": {
        "id": "4AYn1MDwNzu3",
        "colab_type": "code",
        "outputId": "f06d1a0b-7614-4ab6-bf83-ade12400533c",
        "colab": {
          "base_uri": "https://localhost:8080/",
          "height": 68
        }
      },
      "source": [
        "df.dtypes"
      ],
      "execution_count": 0,
      "outputs": [
        {
          "output_type": "execute_result",
          "data": {
            "text/plain": [
              "review_body    object\n",
              "review_date    object\n",
              "dtype: object"
            ]
          },
          "metadata": {
            "tags": []
          },
          "execution_count": 654
        }
      ]
    },
    {
      "cell_type": "code",
      "metadata": {
        "id": "eavZ3PvJN8NP",
        "colab_type": "code",
        "outputId": "d0c7c518-83c7-4084-b337-aa681f34520e",
        "colab": {
          "base_uri": "https://localhost:8080/",
          "height": 547
        }
      },
      "source": [
        "view_size = 30\n",
        "view_df = df.iloc[:view_size,:].copy()\n",
        "\n",
        "for _, row in view_df.iterrows():\n",
        "  print(row[\"review_body\"])"
      ],
      "execution_count": 0,
      "outputs": [
        {
          "output_type": "stream",
          "text": [
            "Have to admit I am not a great fan of McDonalds but it is a great place for a quickish snack, I doubt it can really be classed as a 'Fast Food establishment' anymore.The one on the Champs Elysees occupies an ideal position from the Company's point of view just a 100 mtrs from the Arc de Triomphe it is extremely busy, but a large restaurant with an upstairs seating area which means I was coping even at lunchtime.The food was no different to any other McDonalds I have ever visited and well priced compared with any place to eat near a Paris landmark/tourist attraction, we saw coffee on sale near the Eifel Tower at 16 euros per cup, were charge 22 euros for a cup of tea, small beer and small bottle of water more than half a mile from the tower so that in itself is a major point.Ordering is almost totally be card/automatic ordering machine which I personally find a little difficult to understand but would be child's play to most regular uses and there does seem to be ample machines within the takeaway/café, I can't bring myself to call it a restaurant.I found my fillet of fish and fries as always never seem to fill me up and I am by no means a big eater.There is a nice covered area on the pavement outside which must be nice to use in the summer and ok even in February.It is what it it and what it claims to be, nothing better nothing worse, great for McDonalds fans and there are millions of them the friends with us love them and were actively looking for one.\n",
            "Food was fine. Staff were undesirably rude!Family outing completely ruined by rude, disrespectful, unpleasant manAVOID!!!!!!!!\n",
            "We went here to enjoy the Golden Arches fries. Easy to use touch screen ordering. But wish they had cleaning wipes to wash the screens. I sure don’t like the idea of putting my hands on that screen before eating. Then you have pay to use the bathroom. Wasn’t McDonalds finest day\n",
            "When I visited this McDonalds I was excited to see so many options that we don’t have on the menu in Ireland. However my bacon and blue cheese burger and fries were served barely warm (cheese wasn’t even slightly melted and the bun and the burger were both very dry. Also queued 15 minutes to use the toilet as there was only one stall in operation, the others were filthy and blocked. Considering the prices are so high compared to other McDonalds they need to do better. I would not return.\n",
            "This restaurent was a mad uprade from the one back in the United Kingdom. My travel to France was fancy and made even more fancy when i ventured into this chain. The smell of wine and cheese was not prevelent. I instead smelt burgers and sweaty bodies that were pile driving into this chain. That is what i love after all. BTW if you need any flowers hit me up.This is stop 2 of 195\n",
            "The wait for the women's toilet was 15mins. When we finally got in we saw that no one wanted to pay for the toilet so even though there were four stalls only two were in use as people would grab the door in order to not pay. The state of those toilets was disgusting. Trash piled almost waste high and no toilet paper. We paid to use the other toilets and then after ordering found out we could have gotten a token to use the toilet for free. Geez. The ordering process was smooth as everyone used one of the many kiosks to order. Food came very quickly. After ordering we waited about two minutes for our order to come out. The food tastes the same as in the US.\n",
            "Do you know how they call double bigmac in France? - Royal cheese!Good stuff, best burgers in Paris\n",
            "For a busy location service was fast and friendly and food was well prepared. We really enjoyed the Mac experience in Paris.\n",
            "Staff appear disorganized and unmotivated. Overall poor experience. Have eaten at Macdonalds all over the world... food prep here is also poor. More work in the kitchen and better staff training at the cashes. Staff have a “don’t care “ attitude. One positive note, security person was very pleasant and professional.\n",
            "Had two cheese and egg mcmuffins, 2 coffees and some sweet stuff like muffins.was very unhealthy but very yummy.McDonald's was nice and clean, plenty of space to sit, but note that we were there around 8am\n",
            "Have to admit I am not a great fan of McDonalds but it is a great place for a quickish snack, I doubt it can really be classed as a 'Fast Food establishment' anymore.The one on the Champs Elysees occupies an ideal position from the Company's point of view just a 100 mtrs from the Arc de Triomphe it is extremely busy, but a large restaurant with an upstairs seating area which means I was coping even at lunchtime.The food was no different to any other McDonalds I have ever visited and well priced compared with any place to eat near a Paris landmark/tourist attraction, we saw coffee on sale near the Eifel Tower at 16 euros per cup, were charge 22 euros for a cup of tea, small beer and small bottle of water more than half a mile from the tower so that in itself is a major point.Ordering is almost totally be card/automatic ordering machine which I personally find a little difficult to understand but would be child's play to most regular uses and there does seem to be ample machines within the takeaway/café, I can't bring myself to call it a restaurant.I found my fillet of fish and fries as always never seem to fill me up and I am by no means a big eater.There is a nice covered area on the pavement outside which must be nice to use in the summer and ok even in February.It is what it it and what it claims to be, nothing better nothing worse, great for McDonalds fans and there are millions of them the friends with us love them and were actively looking for one.\n",
            "Food was fine. Staff were undesirably rude!Family outing completely ruined by rude, disrespectful, unpleasant manAVOID!!!!!!!!\n",
            "We went here to enjoy the Golden Arches fries. Easy to use touch screen ordering. But wish they had cleaning wipes to wash the screens. I sure don’t like the idea of putting my hands on that screen before eating. Then you have pay to use the bathroom. Wasn’t McDonalds finest day\n",
            "When I visited this McDonalds I was excited to see so many options that we don’t have on the menu in Ireland. However my bacon and blue cheese burger and fries were served barely warm (cheese wasn’t even slightly melted and the bun and the burger were both very dry. Also queued 15 minutes to use the toilet as there was only one stall in operation, the others were filthy and blocked. Considering the prices are so high compared to other McDonalds they need to do better. I would not return.\n",
            "This restaurent was a mad uprade from the one back in the United Kingdom. My travel to France was fancy and made even more fancy when i ventured into this chain. The smell of wine and cheese was not prevelent. I instead smelt burgers and sweaty bodies that were pile driving into this chain. That is what i love after all. BTW if you need any flowers hit me up.This is stop 2 of 195\n",
            "The wait for the women's toilet was 15mins. When we finally got in we saw that no one wanted to pay for the toilet so even though there were four stalls only two were in use as people would grab the door in order to not pay. The state of those toilets was disgusting. Trash piled almost waste high and no toilet paper. We paid to use the other toilets and then after ordering found out we could have gotten a token to use the toilet for free. Geez. The ordering process was smooth as everyone used one of the many kiosks to order. Food came very quickly. After ordering we waited about two minutes for our order to come out. The food tastes the same as in the US.\n",
            "Do you know how they call double bigmac in France? - Royal cheese!Good stuff, best burgers in Paris\n",
            "For a busy location service was fast and friendly and food was well prepared. We really enjoyed the Mac experience in Paris.\n",
            "Staff appear disorganized and unmotivated. Overall poor experience. Have eaten at Macdonalds all over the world... food prep here is also poor. More work in the kitchen and better staff training at the cashes. Staff have a “don’t care “ attitude. One positive note, security person was very pleasant and professional.\n",
            "Had two cheese and egg mcmuffins, 2 coffees and some sweet stuff like muffins.was very unhealthy but very yummy.McDonald's was nice and clean, plenty of space to sit, but note that we were there around 8am\n",
            "McDonalds is familiar food, quick & easy - so an easy meal when we're travelling. It was our first experience where we ordered completely at the machines - no talking to staff at all. Initially we didn't realise & I can't say staff that were around were very helpful - but in the end we figured it out ourselves anyway. Hubby was very chuffed that he could order a beer with his meal!! The view out onto the Champs Elysees through the huge front window was pretty cool too.\n",
            "Food quality was very poorPrices were high for fast foodBathrooms were extremely nasty.Not recommended at all\n",
            "By far the busiest Macie D's I have been in.Service was very quick. The place was clean but the bins could of done with emptying more often as the were over flowingThe funniest moment is when they kept playing 1 English song ( I was in Paris I didn't expect any tbh) which was \"My ting from Barking\"\n",
            "The sandwiches were good and the fries but the order takes a very long time to be served and there were no places to sit but the place was clean and I would like to thank the security as I forgot my hand bag in the shop and when I came back after one hour they kept it for me where the bag has my passports and if I lost it , it will be a great problem but they kept it safe for me , thanks a lot \n",
            "We had to try McDonald's in Paris! It was easy to order with their touch screen ordering option. We got the P'TiT Ranch (Really just a crispy ranch snack wrap), LA BOÎTE À PARTAGER, which had 3 different fried items, they had chicken nuggets, chicken strips, and this fried cheese (wasnt a big fan at all for the fried cheese, it was like fried thick cream cheese), and their deluxe potatoes (tasted just like jojos). We tried their ranch, curry and bbq sauce. The curry tasted like a hint of curry, it was interesting, I liked it. The bbq and the ranch was normal.\n",
            "When ever I visit France I always visit Maccy D because of the CBO (Chicken , Bacon & Onion) burger. It is simply delicious and the best burger invention ever!\n",
            "All of our hamburgers were cold. (The cheese was never even melted on the burgers), buns weren’t fresh and the French fries were cold. The coffee was the only good thing. $90 euros spent on garbage food.\n",
            "While visiting Paris we thought we’d sample the delights of the Golden Arches (white ones anyway) it was terrible. The toilets were disgusting and tiny with one stall for the male toilets and my wife was unable to enter the ladies due to the smell the screens were all stacked with people and you cannot order at the desks which I think is ludicrous, the general cleanliness and hygiene was appalling I would not recommend a visit\n",
            "OK, there are many places to grab a more Parisian cup of coffee. Any little cafe will give you a more authentic experience. But, if you are on the Champs Elysees, and need a little nibble, stop in and visit McCafe. Order the petit baguette and you will be surprised that for 2 euros you will get a great treat. 1 small baguette of pretty good quality, actual butter, and a mini jar of Bonne Maman preserves. A very pleasant surprise, and a good deal for 2 euros. \n",
            "Tea was good but expensive at 3 euros a cup. But McDonald’s in Paris lets itself down badly for not bothering to maintain its toilets which cost 50 cents or free if you ask for a token if you are a customer. So if you need the toilet don’t go to any McDonald S in Paris!\n"
          ],
          "name": "stdout"
        }
      ]
    },
    {
      "cell_type": "code",
      "metadata": {
        "id": "W1_AVZWtT7BL",
        "colab_type": "code",
        "colab": {}
      },
      "source": [
        "# plt.figure(figsize=(15,10))\n",
        "# df[\"review_date\"].size().sort_values(ascending=False).plot.bar()\n",
        "# plt.xticks(rotation=50)\n",
        "# plt.xlabel(\"Date du commentaire\")\n",
        "# plt.ylabel(\"Nombre de commentaires\")\n",
        "# plt.show();"
      ],
      "execution_count": 0,
      "outputs": []
    },
    {
      "cell_type": "code",
      "metadata": {
        "id": "oC6I_BwMUeJm",
        "colab_type": "code",
        "colab": {}
      },
      "source": [
        "from PIL import Image\n",
        "from wordcloud import WordCloud, STOPWORDS, ImageColorGenerator"
      ],
      "execution_count": 0,
      "outputs": []
    },
    {
      "cell_type": "code",
      "metadata": {
        "id": "iWtYmxFKVjZ-",
        "colab_type": "code",
        "outputId": "5976be49-9d77-4224-9c69-3eed66e618e8",
        "colab": {
          "base_uri": "https://localhost:8080/",
          "height": 310
        }
      },
      "source": [
        "wordcloud = WordCloud().generate(' '.join(df['review_body']))\n",
        "plt.figure(figsize=(10,8))\n",
        "plt.imshow(wordcloud, interpolation='bilinear')\n",
        "plt.axis(\"off\")\n",
        "plt.show()"
      ],
      "execution_count": 0,
      "outputs": [
        {
          "output_type": "display_data",
          "data": {
            "image/png": "[encoded data removed]",
            "text/plain": [
              "<Figure size 720x576 with 1 Axes>"
            ]
          },
          "metadata": {
            "tags": []
          }
        }
      ]
    },
    {
      "cell_type": "markdown",
      "metadata": {
        "id": "_afo-ekgOSwE",
        "colab_type": "text"
      },
      "source": [
        "# Nettoyage"
      ]
    },
    {
      "cell_type": "markdown",
      "metadata": {
        "id": "rovE2kYNOVUR",
        "colab_type": "text"
      },
      "source": [
        "1. Emojis"
      ]
    },
    {
      "cell_type": "code",
      "metadata": {
        "id": "GtkbGO74OAjH",
        "colab_type": "code",
        "outputId": "531453e2-f2de-425d-eb96-8659f8317507",
        "colab": {
          "base_uri": "https://localhost:8080/",
          "height": 34
        }
      },
      "source": [
        "def remove_emoji(text):\n",
        "    emoji_pattern = re.compile(\"[\"\n",
        "                           u\"\\U0001F600-\\U0001F64F\"  # emoticons\n",
        "                           u\"\\U0001F300-\\U0001F5FF\"  # symbols & pictographs\n",
        "                           u\"\\U0001F680-\\U0001F6FF\"  # transport & map symbols\n",
        "                           u\"\\U0001F1E0-\\U0001F1FF\"  # flags (iOS)\n",
        "                           u\"\\U00002702-\\U000027B0\"\n",
        "                           u\"\\U000024C2-\\U0001F251\"\n",
        "                           \"]+\", flags=re.UNICODE)\n",
        "    return emoji_pattern.sub(r'', text)\n",
        "\n",
        "remove_emoji(\"Omg another Earthquake 😔😔\")"
      ],
      "execution_count": 0,
      "outputs": [
        {
          "output_type": "execute_result",
          "data": {
            "text/plain": [
              "'Omg another Earthquake '"
            ]
          },
          "metadata": {
            "tags": []
          },
          "execution_count": 659
        }
      ]
    },
    {
      "cell_type": "code",
      "metadata": {
        "id": "Sog3q5-QOZ6i",
        "colab_type": "code",
        "colab": {}
      },
      "source": [
        "# Suppression des Emojis\n",
        "df[\"review_body\"] = df[\"review_body\"].apply(remove_emoji)"
      ],
      "execution_count": 0,
      "outputs": []
    },
    {
      "cell_type": "markdown",
      "metadata": {
        "id": "2BWXwWJsOkPD",
        "colab_type": "text"
      },
      "source": [
        "2. Suppression des hashtags"
      ]
    },
    {
      "cell_type": "code",
      "metadata": {
        "id": "M2Sz15mjOftR",
        "colab_type": "code",
        "colab": {}
      },
      "source": [
        "# Suppression des Hashtags\n",
        "df[\"has_hashtag\"] = df[\"review_body\"].str.contains(\"#\")\n",
        "df[\"review_body\"] = df['review_body'].str.replace('#', '')"
      ],
      "execution_count": 0,
      "outputs": []
    },
    {
      "cell_type": "code",
      "metadata": {
        "id": "oIiob-qOOyup",
        "colab_type": "code",
        "colab": {}
      },
      "source": [
        "# Encodage de la colonne hashtag\n",
        "hasghtag_lbl = LabelEncoder()\n",
        "if \"has_hashtag\" in df.columns:\n",
        "    df[\"has_hashtag\"] = hasghtag_lbl.fit_transform(df[\"has_hashtag\"])"
      ],
      "execution_count": 0,
      "outputs": []
    },
    {
      "cell_type": "code",
      "metadata": {
        "id": "TgFgRG4iO_0J",
        "colab_type": "code",
        "outputId": "ffd28b99-6cdf-40a4-abeb-c7e502f65d8c",
        "colab": {
          "base_uri": "https://localhost:8080/",
          "height": 204
        }
      },
      "source": [
        "df.head()"
      ],
      "execution_count": 0,
      "outputs": [
        {
          "output_type": "execute_result",
          "data": {
            "text/html": [
              "<div>\n",
              "<style scoped>\n",
              "    .dataframe tbody tr th:only-of-type {\n",
              "        vertical-align: middle;\n",
              "    }\n",
              "\n",
              "    .dataframe tbody tr th {\n",
              "        vertical-align: top;\n",
              "    }\n",
              "\n",
              "    .dataframe thead th {\n",
              "        text-align: right;\n",
              "    }\n",
              "</style>\n",
              "<table border=\"1\" class=\"dataframe\">\n",
              "  <thead>\n",
              "    <tr style=\"text-align: right;\">\n",
              "      <th></th>\n",
              "      <th>review_body</th>\n",
              "      <th>review_date</th>\n",
              "      <th>has_hashtag</th>\n",
              "    </tr>\n",
              "  </thead>\n",
              "  <tbody>\n",
              "    <tr>\n",
              "      <th>0</th>\n",
              "      <td>Have to admit I am not a great fan of McDonald...</td>\n",
              "      <td>February 29, 2020</td>\n",
              "      <td>0</td>\n",
              "    </tr>\n",
              "    <tr>\n",
              "      <th>1</th>\n",
              "      <td>Food was fine. Staff were undesirably rude!Fam...</td>\n",
              "      <td>February 15, 2020</td>\n",
              "      <td>0</td>\n",
              "    </tr>\n",
              "    <tr>\n",
              "      <th>2</th>\n",
              "      <td>We went here to enjoy the Golden Arches fries....</td>\n",
              "      <td>November 5, 2019</td>\n",
              "      <td>0</td>\n",
              "    </tr>\n",
              "    <tr>\n",
              "      <th>3</th>\n",
              "      <td>When I visited this McDonalds I was excited to...</td>\n",
              "      <td>November 2, 2019</td>\n",
              "      <td>0</td>\n",
              "    </tr>\n",
              "    <tr>\n",
              "      <th>4</th>\n",
              "      <td>This restaurent was a mad uprade from the one ...</td>\n",
              "      <td>October 2, 2019</td>\n",
              "      <td>0</td>\n",
              "    </tr>\n",
              "  </tbody>\n",
              "</table>\n",
              "</div>"
            ],
            "text/plain": [
              "                                         review_body  ... has_hashtag\n",
              "0  Have to admit I am not a great fan of McDonald...  ...           0\n",
              "1  Food was fine. Staff were undesirably rude!Fam...  ...           0\n",
              "2  We went here to enjoy the Golden Arches fries....  ...           0\n",
              "3  When I visited this McDonalds I was excited to...  ...           0\n",
              "4  This restaurent was a mad uprade from the one ...  ...           0\n",
              "\n",
              "[5 rows x 3 columns]"
            ]
          },
          "metadata": {
            "tags": []
          },
          "execution_count": 663
        }
      ]
    },
    {
      "cell_type": "code",
      "metadata": {
        "id": "bpie4NY2PAxI",
        "colab_type": "code",
        "outputId": "428149d9-cffb-43b2-8702-c7b53ecc29bd",
        "colab": {
          "base_uri": "https://localhost:8080/",
          "height": 204
        }
      },
      "source": [
        "df.tail()"
      ],
      "execution_count": 0,
      "outputs": [
        {
          "output_type": "execute_result",
          "data": {
            "text/html": [
              "<div>\n",
              "<style scoped>\n",
              "    .dataframe tbody tr th:only-of-type {\n",
              "        vertical-align: middle;\n",
              "    }\n",
              "\n",
              "    .dataframe tbody tr th {\n",
              "        vertical-align: top;\n",
              "    }\n",
              "\n",
              "    .dataframe thead th {\n",
              "        text-align: right;\n",
              "    }\n",
              "</style>\n",
              "<table border=\"1\" class=\"dataframe\">\n",
              "  <thead>\n",
              "    <tr style=\"text-align: right;\">\n",
              "      <th></th>\n",
              "      <th>review_body</th>\n",
              "      <th>review_date</th>\n",
              "      <th>has_hashtag</th>\n",
              "    </tr>\n",
              "  </thead>\n",
              "  <tbody>\n",
              "    <tr>\n",
              "      <th>535</th>\n",
              "      <td>This place was packed for lunch. More register...</td>\n",
              "      <td>January 31, 2012</td>\n",
              "      <td>0</td>\n",
              "    </tr>\n",
              "    <tr>\n",
              "      <th>536</th>\n",
              "      <td>Well if you're run out of idea or you need to ...</td>\n",
              "      <td>December 14, 2011</td>\n",
              "      <td>0</td>\n",
              "    </tr>\n",
              "    <tr>\n",
              "      <th>537</th>\n",
              "      <td>We were surprised to find a McD in Paris with ...</td>\n",
              "      <td>September 10, 2009</td>\n",
              "      <td>0</td>\n",
              "    </tr>\n",
              "    <tr>\n",
              "      <th>538</th>\n",
              "      <td>We stopped when we were walking by because we ...</td>\n",
              "      <td>February 7, 2009</td>\n",
              "      <td>0</td>\n",
              "    </tr>\n",
              "    <tr>\n",
              "      <th>539</th>\n",
              "      <td>Quarter Pounder with Cheese cravings happen.</td>\n",
              "      <td>June 22, 2008</td>\n",
              "      <td>0</td>\n",
              "    </tr>\n",
              "  </tbody>\n",
              "</table>\n",
              "</div>"
            ],
            "text/plain": [
              "                                           review_body  ... has_hashtag\n",
              "535  This place was packed for lunch. More register...  ...           0\n",
              "536  Well if you're run out of idea or you need to ...  ...           0\n",
              "537  We were surprised to find a McD in Paris with ...  ...           0\n",
              "538  We stopped when we were walking by because we ...  ...           0\n",
              "539       Quarter Pounder with Cheese cravings happen.  ...           0\n",
              "\n",
              "[5 rows x 3 columns]"
            ]
          },
          "metadata": {
            "tags": []
          },
          "execution_count": 664
        }
      ]
    },
    {
      "cell_type": "code",
      "metadata": {
        "id": "OPMh-GUNPCfI",
        "colab_type": "code",
        "outputId": "784e59e1-7ed5-41b8-ed6c-0fccdfc1b500",
        "colab": {
          "base_uri": "https://localhost:8080/",
          "height": 34
        }
      },
      "source": [
        "print(\"Nombre de commentaires qui ont possédé un hashtag avant le nettoyage : \", df[\"has_hashtag\"].sum())"
      ],
      "execution_count": 0,
      "outputs": [
        {
          "output_type": "stream",
          "text": [
            "Nombre de commentaires qui ont possédé un hashtag avant le nettoyage :  2\n"
          ],
          "name": "stdout"
        }
      ]
    },
    {
      "cell_type": "markdown",
      "metadata": {
        "id": "B7X7NSW9PRUz",
        "colab_type": "text"
      },
      "source": [
        "3. Liens"
      ]
    },
    {
      "cell_type": "code",
      "metadata": {
        "id": "okxdJ2lHPGNo",
        "colab_type": "code",
        "colab": {}
      },
      "source": [
        "def remove_urls(text):\n",
        "  #return re.sub(r'http\\S+', '', text)\n",
        "   return re.compile(r'https?://\\S+|www\\.\\S+').sub(r'',text)"
      ],
      "execution_count": 0,
      "outputs": []
    },
    {
      "cell_type": "code",
      "metadata": {
        "id": "iWgVT6NIPTWZ",
        "colab_type": "code",
        "colab": {}
      },
      "source": [
        "# Suppression des liens\n",
        "df[\"review_body\"] = df[\"review_body\"].apply(remove_urls)"
      ],
      "execution_count": 0,
      "outputs": []
    },
    {
      "cell_type": "code",
      "metadata": {
        "id": "zjYXL-_lPxQL",
        "colab_type": "code",
        "outputId": "ac4d4814-87f9-4959-c86a-1978e5dc166c",
        "colab": {
          "base_uri": "https://localhost:8080/",
          "height": 204
        }
      },
      "source": [
        "df.head()"
      ],
      "execution_count": 0,
      "outputs": [
        {
          "output_type": "execute_result",
          "data": {
            "text/html": [
              "<div>\n",
              "<style scoped>\n",
              "    .dataframe tbody tr th:only-of-type {\n",
              "        vertical-align: middle;\n",
              "    }\n",
              "\n",
              "    .dataframe tbody tr th {\n",
              "        vertical-align: top;\n",
              "    }\n",
              "\n",
              "    .dataframe thead th {\n",
              "        text-align: right;\n",
              "    }\n",
              "</style>\n",
              "<table border=\"1\" class=\"dataframe\">\n",
              "  <thead>\n",
              "    <tr style=\"text-align: right;\">\n",
              "      <th></th>\n",
              "      <th>review_body</th>\n",
              "      <th>review_date</th>\n",
              "      <th>has_hashtag</th>\n",
              "    </tr>\n",
              "  </thead>\n",
              "  <tbody>\n",
              "    <tr>\n",
              "      <th>0</th>\n",
              "      <td>Have to admit I am not a great fan of McDonald...</td>\n",
              "      <td>February 29, 2020</td>\n",
              "      <td>0</td>\n",
              "    </tr>\n",
              "    <tr>\n",
              "      <th>1</th>\n",
              "      <td>Food was fine. Staff were undesirably rude!Fam...</td>\n",
              "      <td>February 15, 2020</td>\n",
              "      <td>0</td>\n",
              "    </tr>\n",
              "    <tr>\n",
              "      <th>2</th>\n",
              "      <td>We went here to enjoy the Golden Arches fries....</td>\n",
              "      <td>November 5, 2019</td>\n",
              "      <td>0</td>\n",
              "    </tr>\n",
              "    <tr>\n",
              "      <th>3</th>\n",
              "      <td>When I visited this McDonalds I was excited to...</td>\n",
              "      <td>November 2, 2019</td>\n",
              "      <td>0</td>\n",
              "    </tr>\n",
              "    <tr>\n",
              "      <th>4</th>\n",
              "      <td>This restaurent was a mad uprade from the one ...</td>\n",
              "      <td>October 2, 2019</td>\n",
              "      <td>0</td>\n",
              "    </tr>\n",
              "  </tbody>\n",
              "</table>\n",
              "</div>"
            ],
            "text/plain": [
              "                                         review_body  ... has_hashtag\n",
              "0  Have to admit I am not a great fan of McDonald...  ...           0\n",
              "1  Food was fine. Staff were undesirably rude!Fam...  ...           0\n",
              "2  We went here to enjoy the Golden Arches fries....  ...           0\n",
              "3  When I visited this McDonalds I was excited to...  ...           0\n",
              "4  This restaurent was a mad uprade from the one ...  ...           0\n",
              "\n",
              "[5 rows x 3 columns]"
            ]
          },
          "metadata": {
            "tags": []
          },
          "execution_count": 668
        }
      ]
    },
    {
      "cell_type": "markdown",
      "metadata": {
        "id": "Yht2iYWxP1Xr",
        "colab_type": "text"
      },
      "source": [
        "4. Ponctutation"
      ]
    },
    {
      "cell_type": "code",
      "metadata": {
        "id": "D8cfgReQPy3h",
        "colab_type": "code",
        "colab": {}
      },
      "source": [
        "df[\"review_body\"] = df[\"review_body\"].str.replace('[{}]'.format(string.punctuation), '')"
      ],
      "execution_count": 0,
      "outputs": []
    },
    {
      "cell_type": "code",
      "metadata": {
        "id": "E7M3yMfzP8YB",
        "colab_type": "code",
        "outputId": "2efdb663-9021-4e54-90bb-ee5ae06da682",
        "colab": {
          "base_uri": "https://localhost:8080/",
          "height": 377
        }
      },
      "source": [
        "for _, row in df.iloc[:20,:].iterrows():\n",
        "  print(row[\"review_body\"])"
      ],
      "execution_count": 0,
      "outputs": [
        {
          "output_type": "stream",
          "text": [
            "Have to admit I am not a great fan of McDonalds but it is a great place for a quickish snack I doubt it can really be classed as a Fast Food establishment anymoreThe one on the Champs Elysees occupies an ideal position from the Companys point of view just a 100 mtrs from the Arc de Triomphe it is extremely busy but a large restaurant with an upstairs seating area which means I was coping even at lunchtimeThe food was no different to any other McDonalds I have ever visited and well priced compared with any place to eat near a Paris landmarktourist attraction we saw coffee on sale near the Eifel Tower at 16 euros per cup were charge 22 euros for a cup of tea small beer and small bottle of water more than half a mile from the tower so that in itself is a major pointOrdering is almost totally be cardautomatic ordering machine which I personally find a little difficult to understand but would be childs play to most regular uses and there does seem to be ample machines within the takeawaycafé I cant bring myself to call it a restaurantI found my fillet of fish and fries as always never seem to fill me up and I am by no means a big eaterThere is a nice covered area on the pavement outside which must be nice to use in the summer and ok even in FebruaryIt is what it it and what it claims to be nothing better nothing worse great for McDonalds fans and there are millions of them the friends with us love them and were actively looking for one\n",
            "Food was fine Staff were undesirably rudeFamily outing completely ruined by rude disrespectful unpleasant manAVOID\n",
            "We went here to enjoy the Golden Arches fries Easy to use touch screen ordering But wish they had cleaning wipes to wash the screens I sure don’t like the idea of putting my hands on that screen before eating Then you have pay to use the bathroom Wasn’t McDonalds finest day\n",
            "When I visited this McDonalds I was excited to see so many options that we don’t have on the menu in Ireland However my bacon and blue cheese burger and fries were served barely warm cheese wasn’t even slightly melted and the bun and the burger were both very dry Also queued 15 minutes to use the toilet as there was only one stall in operation the others were filthy and blocked Considering the prices are so high compared to other McDonalds they need to do better I would not return\n",
            "This restaurent was a mad uprade from the one back in the United Kingdom My travel to France was fancy and made even more fancy when i ventured into this chain The smell of wine and cheese was not prevelent I instead smelt burgers and sweaty bodies that were pile driving into this chain That is what i love after all BTW if you need any flowers hit me upThis is stop 2 of 195\n",
            "The wait for the womens toilet was 15mins When we finally got in we saw that no one wanted to pay for the toilet so even though there were four stalls only two were in use as people would grab the door in order to not pay The state of those toilets was disgusting Trash piled almost waste high and no toilet paper We paid to use the other toilets and then after ordering found out we could have gotten a token to use the toilet for free Geez The ordering process was smooth as everyone used one of the many kiosks to order Food came very quickly After ordering we waited about two minutes for our order to come out The food tastes the same as in the US\n",
            "Do you know how they call double bigmac in France  Royal cheeseGood stuff best burgers in Paris\n",
            "For a busy location service was fast and friendly and food was well prepared We really enjoyed the Mac experience in Paris\n",
            "Staff appear disorganized and unmotivated Overall poor experience Have eaten at Macdonalds all over the world food prep here is also poor More work in the kitchen and better staff training at the cashes Staff have a “don’t care “ attitude One positive note security person was very pleasant and professional\n",
            "Had two cheese and egg mcmuffins 2 coffees and some sweet stuff like muffinswas very unhealthy but very yummyMcDonalds was nice and clean plenty of space to sit but note that we were there around 8am\n",
            "Have to admit I am not a great fan of McDonalds but it is a great place for a quickish snack I doubt it can really be classed as a Fast Food establishment anymoreThe one on the Champs Elysees occupies an ideal position from the Companys point of view just a 100 mtrs from the Arc de Triomphe it is extremely busy but a large restaurant with an upstairs seating area which means I was coping even at lunchtimeThe food was no different to any other McDonalds I have ever visited and well priced compared with any place to eat near a Paris landmarktourist attraction we saw coffee on sale near the Eifel Tower at 16 euros per cup were charge 22 euros for a cup of tea small beer and small bottle of water more than half a mile from the tower so that in itself is a major pointOrdering is almost totally be cardautomatic ordering machine which I personally find a little difficult to understand but would be childs play to most regular uses and there does seem to be ample machines within the takeawaycafé I cant bring myself to call it a restaurantI found my fillet of fish and fries as always never seem to fill me up and I am by no means a big eaterThere is a nice covered area on the pavement outside which must be nice to use in the summer and ok even in FebruaryIt is what it it and what it claims to be nothing better nothing worse great for McDonalds fans and there are millions of them the friends with us love them and were actively looking for one\n",
            "Food was fine Staff were undesirably rudeFamily outing completely ruined by rude disrespectful unpleasant manAVOID\n",
            "We went here to enjoy the Golden Arches fries Easy to use touch screen ordering But wish they had cleaning wipes to wash the screens I sure don’t like the idea of putting my hands on that screen before eating Then you have pay to use the bathroom Wasn’t McDonalds finest day\n",
            "When I visited this McDonalds I was excited to see so many options that we don’t have on the menu in Ireland However my bacon and blue cheese burger and fries were served barely warm cheese wasn’t even slightly melted and the bun and the burger were both very dry Also queued 15 minutes to use the toilet as there was only one stall in operation the others were filthy and blocked Considering the prices are so high compared to other McDonalds they need to do better I would not return\n",
            "This restaurent was a mad uprade from the one back in the United Kingdom My travel to France was fancy and made even more fancy when i ventured into this chain The smell of wine and cheese was not prevelent I instead smelt burgers and sweaty bodies that were pile driving into this chain That is what i love after all BTW if you need any flowers hit me upThis is stop 2 of 195\n",
            "The wait for the womens toilet was 15mins When we finally got in we saw that no one wanted to pay for the toilet so even though there were four stalls only two were in use as people would grab the door in order to not pay The state of those toilets was disgusting Trash piled almost waste high and no toilet paper We paid to use the other toilets and then after ordering found out we could have gotten a token to use the toilet for free Geez The ordering process was smooth as everyone used one of the many kiosks to order Food came very quickly After ordering we waited about two minutes for our order to come out The food tastes the same as in the US\n",
            "Do you know how they call double bigmac in France  Royal cheeseGood stuff best burgers in Paris\n",
            "For a busy location service was fast and friendly and food was well prepared We really enjoyed the Mac experience in Paris\n",
            "Staff appear disorganized and unmotivated Overall poor experience Have eaten at Macdonalds all over the world food prep here is also poor More work in the kitchen and better staff training at the cashes Staff have a “don’t care “ attitude One positive note security person was very pleasant and professional\n",
            "Had two cheese and egg mcmuffins 2 coffees and some sweet stuff like muffinswas very unhealthy but very yummyMcDonalds was nice and clean plenty of space to sit but note that we were there around 8am\n"
          ],
          "name": "stdout"
        }
      ]
    },
    {
      "cell_type": "markdown",
      "metadata": {
        "id": "IdBU94enQDw7",
        "colab_type": "text"
      },
      "source": [
        "5. Tags HTML"
      ]
    },
    {
      "cell_type": "code",
      "metadata": {
        "id": "Vx_iBvvUP_tQ",
        "colab_type": "code",
        "colab": {}
      },
      "source": [
        "def remove_html(text):\n",
        "    html=re.compile(r'<.*?>')\n",
        "    return html.sub(r'',text)\n",
        "\n",
        "df[\"review_body\"] = df[\"review_body\"].astype(str)\n",
        "df['review_body'] = df['review_body'].apply(lambda x : remove_html(x))"
      ],
      "execution_count": 0,
      "outputs": []
    },
    {
      "cell_type": "markdown",
      "metadata": {
        "id": "cgxPFRG-QOI7",
        "colab_type": "text"
      },
      "source": [
        "6. Correction de l'ortographe"
      ]
    },
    {
      "cell_type": "code",
      "metadata": {
        "id": "q9wCLkfwQMP6",
        "colab_type": "code",
        "colab": {}
      },
      "source": [
        "spell = SpellChecker()\n",
        "def correct_spellings(text):\n",
        "    corrected_text = []\n",
        "    misspelled_words = spell.unknown(text.split())\n",
        "    for word in text.split():\n",
        "        if word in misspelled_words:\n",
        "            corrected_text.append(spell.correction(word))\n",
        "        else:\n",
        "            corrected_text.append(word)\n",
        "    return \" \".join(corrected_text)\n",
        "\n",
        "# df['review_body'] = df['review_body'].apply(lambda x : correct_spellings(x))"
      ],
      "execution_count": 0,
      "outputs": []
    },
    {
      "cell_type": "markdown",
      "metadata": {
        "id": "5Luk1ofLYoVu",
        "colab_type": "text"
      },
      "source": [
        "Visualisation des mots les plus courants :"
      ]
    },
    {
      "cell_type": "code",
      "metadata": {
        "id": "97fq-dDHZCPF",
        "colab_type": "code",
        "colab": {}
      },
      "source": [
        "data = df[\"review_body\"].copy()"
      ],
      "execution_count": 0,
      "outputs": []
    },
    {
      "cell_type": "code",
      "metadata": {
        "id": "Zs1kFzWCZEoF",
        "colab_type": "code",
        "outputId": "44b3389c-8d2a-4f5b-e10a-0c967776545c",
        "colab": {
          "base_uri": "https://localhost:8080/",
          "height": 119
        }
      },
      "source": [
        "data.head()"
      ],
      "execution_count": 0,
      "outputs": [
        {
          "output_type": "execute_result",
          "data": {
            "text/plain": [
              "0    Have to admit I am not a great fan of McDonald...\n",
              "1    Food was fine Staff were undesirably rudeFamil...\n",
              "2    We went here to enjoy the Golden Arches fries ...\n",
              "3    When I visited this McDonalds I was excited to...\n",
              "4    This restaurent was a mad uprade from the one ...\n",
              "Name: review_body, dtype: object"
            ]
          },
          "metadata": {
            "tags": []
          },
          "execution_count": 674
        }
      ]
    },
    {
      "cell_type": "code",
      "metadata": {
        "id": "HWsJFFuwYi9t",
        "colab_type": "code",
        "outputId": "d90f0b58-d373-4a23-f5f8-01cf80c1e6d2",
        "colab": {
          "base_uri": "https://localhost:8080/",
          "height": 524
        }
      },
      "source": [
        "import matplotlib\n",
        "top_N = 10\n",
        "\n",
        "txt = data.str.lower().str.replace(r'\\|', ' ').str.cat(sep=' ')\n",
        "words_ = nltk.tokenize.word_tokenize(txt)\n",
        "word_dist = nltk.FreqDist(words_)\n",
        "\n",
        "stopwords_ = nltk.corpus.stopwords.words('english')\n",
        "words_except_stop_dist = nltk.FreqDist(w for w in words_ if w not in stopwords_) \n",
        "\n",
        "print('All frequencies, including STOPWORDS:')\n",
        "print('=' * 60)\n",
        "rslt = pd.DataFrame(word_dist.most_common(top_N),\n",
        "                    columns=['Word', 'Frequency'])\n",
        "print(rslt)\n",
        "print('=' * 60)\n",
        "\n",
        "rslt = pd.DataFrame(words_except_stop_dist.most_common(top_N),\n",
        "                    columns=['Word', 'Frequency']).set_index('Word')\n",
        "\n",
        "matplotlib.style.use('ggplot')\n",
        "\n",
        "rslt.plot.bar(rot=0);"
      ],
      "execution_count": 0,
      "outputs": [
        {
          "output_type": "stream",
          "text": [
            "All frequencies, including STOPWORDS:\n",
            "============================================================\n",
            "  Word  Frequency\n",
            "0  the       1850\n",
            "1  and       1120\n",
            "2    a        980\n",
            "3   to        960\n",
            "4  was        692\n",
            "5   in        592\n",
            "6    i        578\n",
            "7   of        512\n",
            "8   it        458\n",
            "9   is        416\n",
            "============================================================\n"
          ],
          "name": "stdout"
        },
        {
          "output_type": "display_data",
          "data": {
            "image/png": "[encoded data removed]",
            "text/plain": [
              "<Figure size 432x288 with 1 Axes>"
            ]
          },
          "metadata": {
            "tags": []
          }
        }
      ]
    },
    {
      "cell_type": "markdown",
      "metadata": {
        "id": "5pwhBUDsQXeT",
        "colab_type": "text"
      },
      "source": [
        "7. Tokenization"
      ]
    },
    {
      "cell_type": "code",
      "metadata": {
        "id": "26G512mVQVqg",
        "colab_type": "code",
        "colab": {}
      },
      "source": [
        "def tokenize(text):\n",
        "  return nltk.word_tokenize(text)\n",
        "\n",
        "df['review_body'] = df['review_body'].apply(tokenize)"
      ],
      "execution_count": 0,
      "outputs": []
    },
    {
      "cell_type": "code",
      "metadata": {
        "id": "MbrBuwixQesa",
        "colab_type": "code",
        "outputId": "8d7d8235-904c-472e-8c30-656a5edc4afa",
        "colab": {
          "base_uri": "https://localhost:8080/",
          "height": 204
        }
      },
      "source": [
        "df.head()"
      ],
      "execution_count": 0,
      "outputs": [
        {
          "output_type": "execute_result",
          "data": {
            "text/html": [
              "<div>\n",
              "<style scoped>\n",
              "    .dataframe tbody tr th:only-of-type {\n",
              "        vertical-align: middle;\n",
              "    }\n",
              "\n",
              "    .dataframe tbody tr th {\n",
              "        vertical-align: top;\n",
              "    }\n",
              "\n",
              "    .dataframe thead th {\n",
              "        text-align: right;\n",
              "    }\n",
              "</style>\n",
              "<table border=\"1\" class=\"dataframe\">\n",
              "  <thead>\n",
              "    <tr style=\"text-align: right;\">\n",
              "      <th></th>\n",
              "      <th>review_body</th>\n",
              "      <th>review_date</th>\n",
              "      <th>has_hashtag</th>\n",
              "    </tr>\n",
              "  </thead>\n",
              "  <tbody>\n",
              "    <tr>\n",
              "      <th>0</th>\n",
              "      <td>[Have, to, admit, I, am, not, a, great, fan, o...</td>\n",
              "      <td>February 29, 2020</td>\n",
              "      <td>0</td>\n",
              "    </tr>\n",
              "    <tr>\n",
              "      <th>1</th>\n",
              "      <td>[Food, was, fine, Staff, were, undesirably, ru...</td>\n",
              "      <td>February 15, 2020</td>\n",
              "      <td>0</td>\n",
              "    </tr>\n",
              "    <tr>\n",
              "      <th>2</th>\n",
              "      <td>[We, went, here, to, enjoy, the, Golden, Arche...</td>\n",
              "      <td>November 5, 2019</td>\n",
              "      <td>0</td>\n",
              "    </tr>\n",
              "    <tr>\n",
              "      <th>3</th>\n",
              "      <td>[When, I, visited, this, McDonalds, I, was, ex...</td>\n",
              "      <td>November 2, 2019</td>\n",
              "      <td>0</td>\n",
              "    </tr>\n",
              "    <tr>\n",
              "      <th>4</th>\n",
              "      <td>[This, restaurent, was, a, mad, uprade, from, ...</td>\n",
              "      <td>October 2, 2019</td>\n",
              "      <td>0</td>\n",
              "    </tr>\n",
              "  </tbody>\n",
              "</table>\n",
              "</div>"
            ],
            "text/plain": [
              "                                         review_body  ... has_hashtag\n",
              "0  [Have, to, admit, I, am, not, a, great, fan, o...  ...           0\n",
              "1  [Food, was, fine, Staff, were, undesirably, ru...  ...           0\n",
              "2  [We, went, here, to, enjoy, the, Golden, Arche...  ...           0\n",
              "3  [When, I, visited, this, McDonalds, I, was, ex...  ...           0\n",
              "4  [This, restaurent, was, a, mad, uprade, from, ...  ...           0\n",
              "\n",
              "[5 rows x 3 columns]"
            ]
          },
          "metadata": {
            "tags": []
          },
          "execution_count": 677
        }
      ]
    },
    {
      "cell_type": "markdown",
      "metadata": {
        "id": "ByfE8fkpQlqa",
        "colab_type": "text"
      },
      "source": [
        "8. Chiffres"
      ]
    },
    {
      "cell_type": "code",
      "metadata": {
        "id": "8AaAWm5zQfdQ",
        "colab_type": "code",
        "colab": {}
      },
      "source": [
        "do_they = list()\n",
        "for _, row in df.iterrows():\n",
        "  result = False\n",
        "  for s in row[\"review_body\"]:\n",
        "    if s.isdigit():\n",
        "        result = True\n",
        "  do_they.append(result)\n",
        "df[\"had_number\"] = do_they"
      ],
      "execution_count": 0,
      "outputs": []
    },
    {
      "cell_type": "code",
      "metadata": {
        "id": "JZLqTzviQ4KK",
        "colab_type": "code",
        "outputId": "57fe30bf-96fe-450d-b1e2-785da7699840",
        "colab": {
          "base_uri": "https://localhost:8080/",
          "height": 204
        }
      },
      "source": [
        "df.head()"
      ],
      "execution_count": 0,
      "outputs": [
        {
          "output_type": "execute_result",
          "data": {
            "text/html": [
              "<div>\n",
              "<style scoped>\n",
              "    .dataframe tbody tr th:only-of-type {\n",
              "        vertical-align: middle;\n",
              "    }\n",
              "\n",
              "    .dataframe tbody tr th {\n",
              "        vertical-align: top;\n",
              "    }\n",
              "\n",
              "    .dataframe thead th {\n",
              "        text-align: right;\n",
              "    }\n",
              "</style>\n",
              "<table border=\"1\" class=\"dataframe\">\n",
              "  <thead>\n",
              "    <tr style=\"text-align: right;\">\n",
              "      <th></th>\n",
              "      <th>review_body</th>\n",
              "      <th>review_date</th>\n",
              "      <th>has_hashtag</th>\n",
              "      <th>had_number</th>\n",
              "    </tr>\n",
              "  </thead>\n",
              "  <tbody>\n",
              "    <tr>\n",
              "      <th>0</th>\n",
              "      <td>[Have, to, admit, I, am, not, a, great, fan, o...</td>\n",
              "      <td>February 29, 2020</td>\n",
              "      <td>0</td>\n",
              "      <td>True</td>\n",
              "    </tr>\n",
              "    <tr>\n",
              "      <th>1</th>\n",
              "      <td>[Food, was, fine, Staff, were, undesirably, ru...</td>\n",
              "      <td>February 15, 2020</td>\n",
              "      <td>0</td>\n",
              "      <td>False</td>\n",
              "    </tr>\n",
              "    <tr>\n",
              "      <th>2</th>\n",
              "      <td>[We, went, here, to, enjoy, the, Golden, Arche...</td>\n",
              "      <td>November 5, 2019</td>\n",
              "      <td>0</td>\n",
              "      <td>False</td>\n",
              "    </tr>\n",
              "    <tr>\n",
              "      <th>3</th>\n",
              "      <td>[When, I, visited, this, McDonalds, I, was, ex...</td>\n",
              "      <td>November 2, 2019</td>\n",
              "      <td>0</td>\n",
              "      <td>True</td>\n",
              "    </tr>\n",
              "    <tr>\n",
              "      <th>4</th>\n",
              "      <td>[This, restaurent, was, a, mad, uprade, from, ...</td>\n",
              "      <td>October 2, 2019</td>\n",
              "      <td>0</td>\n",
              "      <td>True</td>\n",
              "    </tr>\n",
              "  </tbody>\n",
              "</table>\n",
              "</div>"
            ],
            "text/plain": [
              "                                         review_body  ... had_number\n",
              "0  [Have, to, admit, I, am, not, a, great, fan, o...  ...       True\n",
              "1  [Food, was, fine, Staff, were, undesirably, ru...  ...      False\n",
              "2  [We, went, here, to, enjoy, the, Golden, Arche...  ...      False\n",
              "3  [When, I, visited, this, McDonalds, I, was, ex...  ...       True\n",
              "4  [This, restaurent, was, a, mad, uprade, from, ...  ...       True\n",
              "\n",
              "[5 rows x 4 columns]"
            ]
          },
          "metadata": {
            "tags": []
          },
          "execution_count": 679
        }
      ]
    },
    {
      "cell_type": "markdown",
      "metadata": {
        "id": "e-JJZH5NRCuM",
        "colab_type": "text"
      },
      "source": [
        "9. Stopwords"
      ]
    },
    {
      "cell_type": "code",
      "metadata": {
        "id": "DXGtumnOQ9bE",
        "colab_type": "code",
        "colab": {}
      },
      "source": [
        "sp = spacy.load('en_core_web_sm')\n",
        "\n",
        "all_stopwords = sp.Defaults.stop_words\n",
        "\n",
        "def remove_stopwords(text):\n",
        "  return [word for word in text if not word in all_stopwords]"
      ],
      "execution_count": 0,
      "outputs": []
    },
    {
      "cell_type": "code",
      "metadata": {
        "id": "kXEF1DzdRF3Q",
        "colab_type": "code",
        "colab": {}
      },
      "source": [
        "df['review_body'] = df['review_body'].apply(remove_stopwords)"
      ],
      "execution_count": 0,
      "outputs": []
    },
    {
      "cell_type": "markdown",
      "metadata": {
        "id": "-1NfVsEuRNDL",
        "colab_type": "text"
      },
      "source": [
        "10. Chiffres"
      ]
    },
    {
      "cell_type": "code",
      "metadata": {
        "id": "lnR01WxORJTY",
        "colab_type": "code",
        "colab": {}
      },
      "source": [
        "for _, row in df.iterrows():\n",
        "  for index, word in enumerate(row[\"review_body\"]):\n",
        "    if word.isdigit():\n",
        "      row[\"review_body\"].pop(index)"
      ],
      "execution_count": 0,
      "outputs": []
    },
    {
      "cell_type": "code",
      "metadata": {
        "id": "d4myx8wmRVvA",
        "colab_type": "code",
        "outputId": "161c0a4c-3558-428e-dab6-57a64e2c05af",
        "colab": {
          "base_uri": "https://localhost:8080/",
          "height": 204
        }
      },
      "source": [
        "df.head()"
      ],
      "execution_count": 0,
      "outputs": [
        {
          "output_type": "execute_result",
          "data": {
            "text/html": [
              "<div>\n",
              "<style scoped>\n",
              "    .dataframe tbody tr th:only-of-type {\n",
              "        vertical-align: middle;\n",
              "    }\n",
              "\n",
              "    .dataframe tbody tr th {\n",
              "        vertical-align: top;\n",
              "    }\n",
              "\n",
              "    .dataframe thead th {\n",
              "        text-align: right;\n",
              "    }\n",
              "</style>\n",
              "<table border=\"1\" class=\"dataframe\">\n",
              "  <thead>\n",
              "    <tr style=\"text-align: right;\">\n",
              "      <th></th>\n",
              "      <th>review_body</th>\n",
              "      <th>review_date</th>\n",
              "      <th>has_hashtag</th>\n",
              "      <th>had_number</th>\n",
              "    </tr>\n",
              "  </thead>\n",
              "  <tbody>\n",
              "    <tr>\n",
              "      <th>0</th>\n",
              "      <td>[Have, admit, I, great, fan, McDonalds, great,...</td>\n",
              "      <td>February 29, 2020</td>\n",
              "      <td>0</td>\n",
              "      <td>True</td>\n",
              "    </tr>\n",
              "    <tr>\n",
              "      <th>1</th>\n",
              "      <td>[Food, fine, Staff, undesirably, rudeFamily, o...</td>\n",
              "      <td>February 15, 2020</td>\n",
              "      <td>0</td>\n",
              "      <td>False</td>\n",
              "    </tr>\n",
              "    <tr>\n",
              "      <th>2</th>\n",
              "      <td>[We, went, enjoy, Golden, Arches, fries, Easy,...</td>\n",
              "      <td>November 5, 2019</td>\n",
              "      <td>0</td>\n",
              "      <td>False</td>\n",
              "    </tr>\n",
              "    <tr>\n",
              "      <th>3</th>\n",
              "      <td>[When, I, visited, McDonalds, I, excited, opti...</td>\n",
              "      <td>November 2, 2019</td>\n",
              "      <td>0</td>\n",
              "      <td>True</td>\n",
              "    </tr>\n",
              "    <tr>\n",
              "      <th>4</th>\n",
              "      <td>[This, restaurent, mad, uprade, United, Kingdo...</td>\n",
              "      <td>October 2, 2019</td>\n",
              "      <td>0</td>\n",
              "      <td>True</td>\n",
              "    </tr>\n",
              "  </tbody>\n",
              "</table>\n",
              "</div>"
            ],
            "text/plain": [
              "                                         review_body  ... had_number\n",
              "0  [Have, admit, I, great, fan, McDonalds, great,...  ...       True\n",
              "1  [Food, fine, Staff, undesirably, rudeFamily, o...  ...      False\n",
              "2  [We, went, enjoy, Golden, Arches, fries, Easy,...  ...      False\n",
              "3  [When, I, visited, McDonalds, I, excited, opti...  ...       True\n",
              "4  [This, restaurent, mad, uprade, United, Kingdo...  ...       True\n",
              "\n",
              "[5 rows x 4 columns]"
            ]
          },
          "metadata": {
            "tags": []
          },
          "execution_count": 683
        }
      ]
    },
    {
      "cell_type": "code",
      "metadata": {
        "id": "aaftPlZ9RayA",
        "colab_type": "code",
        "outputId": "771e14d0-3a9f-4bc5-8a4a-dd46afc103ff",
        "colab": {
          "base_uri": "https://localhost:8080/",
          "height": 102
        }
      },
      "source": [
        "df.isna().sum()"
      ],
      "execution_count": 0,
      "outputs": [
        {
          "output_type": "execute_result",
          "data": {
            "text/plain": [
              "review_body    0\n",
              "review_date    0\n",
              "has_hashtag    0\n",
              "had_number     0\n",
              "dtype: int64"
            ]
          },
          "metadata": {
            "tags": []
          },
          "execution_count": 684
        }
      ]
    },
    {
      "cell_type": "markdown",
      "metadata": {
        "id": "wjME-31jRr2C",
        "colab_type": "text"
      },
      "source": [
        "# Count Vectorizer (BOW)"
      ]
    },
    {
      "cell_type": "code",
      "metadata": {
        "id": "19frrFV0R7QT",
        "colab_type": "code",
        "colab": {}
      },
      "source": [
        "def text_process(mess):\n",
        "    # Check characters to see if they are in punctuation\n",
        "    nopunc = [char for char in mess if char not in string.punctuation]\n",
        "\n",
        "    # Join the characters again to form the string.\n",
        "    nopunc = ''.join(nopunc)\n",
        "    \n",
        "    # Now just remove any stopwords\n",
        "    return [word for word in nopunc.split() if word.lower() not in stopwords.words('english')]"
      ],
      "execution_count": 0,
      "outputs": []
    },
    {
      "cell_type": "code",
      "metadata": {
        "id": "pYH2rvr3ZWM_",
        "colab_type": "code",
        "outputId": "e1530992-984d-49b6-d0d7-08c06134cc08",
        "colab": {
          "base_uri": "https://localhost:8080/",
          "height": 204
        }
      },
      "source": [
        "df.head()"
      ],
      "execution_count": 0,
      "outputs": [
        {
          "output_type": "execute_result",
          "data": {
            "text/html": [
              "<div>\n",
              "<style scoped>\n",
              "    .dataframe tbody tr th:only-of-type {\n",
              "        vertical-align: middle;\n",
              "    }\n",
              "\n",
              "    .dataframe tbody tr th {\n",
              "        vertical-align: top;\n",
              "    }\n",
              "\n",
              "    .dataframe thead th {\n",
              "        text-align: right;\n",
              "    }\n",
              "</style>\n",
              "<table border=\"1\" class=\"dataframe\">\n",
              "  <thead>\n",
              "    <tr style=\"text-align: right;\">\n",
              "      <th></th>\n",
              "      <th>review_body</th>\n",
              "      <th>review_date</th>\n",
              "      <th>has_hashtag</th>\n",
              "      <th>had_number</th>\n",
              "    </tr>\n",
              "  </thead>\n",
              "  <tbody>\n",
              "    <tr>\n",
              "      <th>0</th>\n",
              "      <td>[Have, admit, I, great, fan, McDonalds, great,...</td>\n",
              "      <td>February 29, 2020</td>\n",
              "      <td>0</td>\n",
              "      <td>True</td>\n",
              "    </tr>\n",
              "    <tr>\n",
              "      <th>1</th>\n",
              "      <td>[Food, fine, Staff, undesirably, rudeFamily, o...</td>\n",
              "      <td>February 15, 2020</td>\n",
              "      <td>0</td>\n",
              "      <td>False</td>\n",
              "    </tr>\n",
              "    <tr>\n",
              "      <th>2</th>\n",
              "      <td>[We, went, enjoy, Golden, Arches, fries, Easy,...</td>\n",
              "      <td>November 5, 2019</td>\n",
              "      <td>0</td>\n",
              "      <td>False</td>\n",
              "    </tr>\n",
              "    <tr>\n",
              "      <th>3</th>\n",
              "      <td>[When, I, visited, McDonalds, I, excited, opti...</td>\n",
              "      <td>November 2, 2019</td>\n",
              "      <td>0</td>\n",
              "      <td>True</td>\n",
              "    </tr>\n",
              "    <tr>\n",
              "      <th>4</th>\n",
              "      <td>[This, restaurent, mad, uprade, United, Kingdo...</td>\n",
              "      <td>October 2, 2019</td>\n",
              "      <td>0</td>\n",
              "      <td>True</td>\n",
              "    </tr>\n",
              "  </tbody>\n",
              "</table>\n",
              "</div>"
            ],
            "text/plain": [
              "                                         review_body  ... had_number\n",
              "0  [Have, admit, I, great, fan, McDonalds, great,...  ...       True\n",
              "1  [Food, fine, Staff, undesirably, rudeFamily, o...  ...      False\n",
              "2  [We, went, enjoy, Golden, Arches, fries, Easy,...  ...      False\n",
              "3  [When, I, visited, McDonalds, I, excited, opti...  ...       True\n",
              "4  [This, restaurent, mad, uprade, United, Kingdo...  ...       True\n",
              "\n",
              "[5 rows x 4 columns]"
            ]
          },
          "metadata": {
            "tags": []
          },
          "execution_count": 686
        }
      ]
    },
    {
      "cell_type": "code",
      "metadata": {
        "id": "mrLvRNYiRgwg",
        "colab_type": "code",
        "colab": {}
      },
      "source": [
        "bow_transformer = CountVectorizer(analyzer=text_process).fit(df['review_body'])"
      ],
      "execution_count": 0,
      "outputs": []
    },
    {
      "cell_type": "code",
      "metadata": {
        "id": "1Mgc9mLiRwXP",
        "colab_type": "code",
        "outputId": "ffc6300c-5015-480c-b098-947300972ee8",
        "colab": {
          "base_uri": "https://localhost:8080/",
          "height": 1000
        }
      },
      "source": [
        "bow_transformer.vocabulary_"
      ],
      "execution_count": 0,
      "outputs": [
        {
          "output_type": "execute_result",
          "data": {
            "text/plain": [
              "{'AbusyMcDonald’sIt’sprettyMcDonald’svisitThetouchscreenseasyordermanagedorderwrong': 0,\n",
              " 'AfterorderingscreenentrancetookhalfhourburgerIthinklostorderminsIaskedmanagerscheckHesaidreturnedVerybadserviceminlaterIaskedgirlcountergaveburgerseeingorderedminutesDo': 1,\n",
              " 'AllhamburgerscoldThecheesemeltedburgersbunsweren’tfreshFrenchfriescoldThecoffeegoodthingeurosspentgarbagefood': 2,\n",
              " 'AlthoughlocatedcharmingcrowdedstreetsParislikearentdealwithInteriorsdirtydarkfarfunnytraditionalMcsmoodBesideswaitlottimelineslowLastlyfrenchfriessaltlessHorrible': 3,\n",
              " 'AmobsceneunlikeMcDonaldsstatesTwofloorsstreamingpeopleTheretamstylefastordermachinesdessertbarusualcounterlinesIfbudgetenjoycrazyscene': 4,\n",
              " 'AnordinarymcdonaldsmenupricesNeedlessIexpectdifferentWhatIlikedviewAvenuedesChampsÉlysées': 5,\n",
              " 'AsusualMcDonaldsoffersstandardmenutrustThisparticularshopfreewifecleanbathroomsairconselfservicekioskgreatseatingareaItrefreshingParisfoodgenerallyexpensiveGreatvaluemoney': 6,\n",
              " 'AtypicalMacwantedideadecentMcCafetypicalMacsfoodoutletToobusylunacythatslocationKeptamazinglycleannumberpeoplevisitingDonteffortvivitlikeMacs': 7,\n",
              " 'AwelcomeplacesnackrestlongdayParisQuickorderingsystemlotsspaceupstairs': 8,\n",
              " 'BathroomatrocitymenshanddryerfaucetworkedAndtoiletscoveredpoosplattersMostlikelyNOSEATStoiletslidbowlNoseatpissyhingesremained': 9,\n",
              " 'BecausedontknowspeakFrancethankmachineordersystemeasyorderAndknowwantorderchoicesdifferentlanguagespicturesAfterorderprettyfastreadyprettycrowdedpeopletimeItsgreat': 10,\n",
              " 'BeentimestouristicbusinesstripsParismomentslunchmovieChampsElyseesThisplacebigfitTherelotpeoplequeuedisorganisedtroublefindseattoiletsforgetitButMcDonaldsfitlittleneedYouknowsworth': 11,\n",
              " 'BestdealfreshlatteboxmacaroonsdifferentfancyexpensiveonesMcCafelineshortquickGrabwindowseatupstairswatchworldMuchnicercoffeesnootywaiteroverpricedcafesChampssmokeface': 12,\n",
              " 'BoomrunninglowpenniesneedquikfixfriesplacetickboxesoverpricedsmackbangchampstoiletscleanStaffgoodWhatu': 13,\n",
              " 'ByfarbusiestMacieDsIinServicequickTheplacecleanbinsemptyingflowingThefunniestmomentkeptplayingEnglishsongIParisIdidntexpecttbhMytingBarking': 14,\n",
              " 'CafepropercoffeeExquisitecakespolitestaffallegedlyrealgoldenarchesKitschheaven': 15,\n",
              " 'CalledicecreamhotafternoonWentusetoiletsIhonestlydisgustingtoiletsIconfrontedfloorscoveredwaterurinefaecestoilettissuefloorbinsoverflowingetcIdryreachingneedlessleaveareafacilitiesForinternationalfranchisepridessettingconsistentstandardsneedreviewstoreMcDonaldsabsolutedisgrace': 16,\n",
              " 'ComeMcdonaldsYummyfoodcrispychickenTheplacecleanwaiterdiscipline': 17,\n",
              " 'ComicallyslowservicefoodtooknearlyminutesactuallyarriveThequeuepickingordersincrediblydisorganisedchaoticseeminglychargetakingresponsibilityAndgenerallylikeknewgoingCouldsolvedeasilyhavingscreendisplayingordernumberreadypicked': 18,\n",
              " 'CrowdedquickstopBeggarsfrequentDoconversationavoidbotheredmeal': 19,\n",
              " 'DirtybathroomshandwashFrequentedtimeseverytimeTheorderingsystemabsolutelyterribleItslikecareappearancesmoothserviceIcountedcustomerscounterwaitingfoodstaffstarringwhilstslowlyheldnumberstraycorrespondingorderFastfoodNOTThedecorweirdpopartmeetsindustrialCouldboardstaffstandingcleantablesdirtyThegoodthinglocationsizeMccafe': 20,\n",
              " 'DoLonglinesbadservicebadoldfoodThepositivethingwindowseat': 21,\n",
              " 'DofavourThisFranceTheycookbestfoodworldWhyhelleatMcDonaldsJustwatchprogramsSupersizeetcDisgustingundeniablymoreishwrongday': 22,\n",
              " 'DoknowdoublebigmacFranceRoyalcheeseGoodstuffbestburgersParis': 23,\n",
              " 'DontImeanTheregoodeateriesChampsElyseesdontsuittastebudgetgarbagebinsstreetJustdont': 24,\n",
              " 'DontbotherThestaffunhelpfulslowrudeSomehowIdontthinkwantbusinessdontenjoyjobBesteatsaveruiningday': 25,\n",
              " 'EasyorderselfservicemachinesfasterAndorderedmatterbadFrenchisRedsturantbusyseatingproblemsMosttoiletsactionblocked': 26,\n",
              " 'EatMcDonaldsyouretravelingbestoptionoptioneconomicalThisparticularamazinglocationprivilegedviewChampsElyseeschoosesitsecondfloor': 27,\n",
              " 'EffortdetailstoredesignstaffrudeWecalledmenusnackleftpromptlywelcomingenvironments': 28,\n",
              " 'EverythingMcDonaldsdifferentUSYouordercomputerbakerydifferentstationshonestlybitentertainingImembarrassed': 29,\n",
              " 'FastfoodisButMcDonaldsnewlowindustryFirstridiculouslycrowdedWefoundMcDonaldscrowdedhalfmilelaterWeParisyearoldneededknowMcDonaldsWhyexperienceparticularlybadWellIorderedcoffeemorningpayingEurossmallthimblesizedcoffeescroissantsIrealizedIforgotcreamIwentaskcreammilkcoffeeItoldIpayextrathatIsomewhatfrustratedpayingEurosUSDollarsNotattitudeextremelyunhelpfulIcanttypemannerItoldmilkextralikeImbeggingstreetIgivencoffeeAmericanMcDonaldsgoodwayIhopeImtalkingrightMcDonaldsTheIreferringcloseArchTheIfoundfriendlierstepsshoppingcenterChampsElyeeseFinalnoteStarBuckscoffeeshopsParisaskmoneymilk': 30,\n",
              " 'FirsttimeIorderedtouchscreenThereEnglishversioneasyuseThecoffeeexpressomuffinfreshItbusystaffspokeEnglishYoucafesectioncoffeemuffinnormalfoodservedfloorAgoodstopbreaktoilet': 31,\n",
              " 'FoodfineStaffundesirablyrudeFamilyoutingcompletelyruinedrudedisrespectfulunpleasantmanAVOID': 32,\n",
              " 'FoodqualitypoorPriceshighfastfoodBathroomsextremelynastyNotrecommended': 33,\n",
              " 'Foodtastytookagesorderkioskbecausschoicsrestaurantcleanstaffpleasant': 34,\n",
              " 'ForbusylocationservicefastfriendlyfoodpreparedWeenjoyedMacexperienceParis': 35,\n",
              " 'Friendlystaffspeaksenglishyumfrenchmacaroonsgreatpriceassafebetrecommendsure': 36,\n",
              " 'FriesbangnuggetscrispydelicioussachetketchuptriplecheeseburgertimesgoodregularcheeseburgerfantaperfectgreaticeAllexcellentvisitvisit': 37,\n",
              " 'FunexperiencePricesgoodconsideringpiecelandrestaurantsittingCloseArcDeTriomphe': 38,\n",
              " 'GoodfastfoodeaterytakeslongerorderTherequeueingStaffmotefficientbutbestcope': 39,\n",
              " 'GrabwindowtabledrinkwatchpeopleButIseenpeopleMcDsInadditioncashierslargetouchscreensorderAtotalzoononFrenchspeakergreatentertainment': 40,\n",
              " 'GreatatmospheregreatbakerytreatsGreatvalueConvenientlocationGoodplacetoursshoppingbreaksGenerallyfindemployeespeaksEnglishStafffriendlyhelpfulWouldrecommendfriendsbudget': 41,\n",
              " 'GreatcheapplacecoffeehotchocolatemacaroonssitwalkenjoyParisianlifestyle': 42,\n",
              " 'GreatfoodgreatpeoplecantbeatsceneryIthinkpeopleworkplacesbiggestdifference': 43,\n",
              " 'GreatmacaronsMcDonaldsWetastetesteddifferentplacesMcDogoodlittlepriceAlsotriedchickennuggetscurrysaucelikedButreasoncameviewChampsElyseesIfsitupstairsoverlooksChampsElyseesgreatviewminimumprice': 44,\n",
              " 'HadbetterworseMcDonaldsRoyalBacondrybunbithardShouldgonehighturnoverBigMacLessonlearntChickennuggetstasteddecentServiceslowlackchangeslowedthings': 45,\n",
              " 'HadcheeseeggmcmuffinscoffeessweetstufflikemuffinswasunhealthyyummyMcDonaldsnicecleanplentyspacesitnote8am': 46,\n",
              " 'HadfriendfellbustedlipMcDonaldschampselyseesicehandhelpwoundedpersonIthoughtEuropeanMcDonaldsensehelping': 47,\n",
              " 'HadplacesitcrowdedAndworstchairstablesdirtycleanStalefood': 48,\n",
              " 'HaveadmitIgreatfanMcDonaldsgreatplacequickishsnackIdoubtclassedFastFoodestablishmentanymoreTheChampsElyseesoccupiesidealpositionCompanyspointviewmtrsArcdeTriompheextremelybusylargerestaurantupstairsseatingareameansIcopinglunchtimeThefooddifferentMcDonaldsIvisitedpricedcomparedplaceeatnearParislandmarktouristattractionsawcoffeesalenearEifelTowereuroscupchargeeuroscupteasmallbeersmallbottlewaterhalfmiletowermajorpointOrderingtotallycardautomaticorderingmachineIpersonallyfindlittledifficultunderstandchildsplayregularusesamplemachinestakeawaycaféIcantbringrestaurantIfoundfilletfishfriesfillImeansbigeaterTherenicecoveredareapavementoutsideniceusesummerokFebruaryItclaimsbetterworsegreatMcDonaldsfansmillionsfriendsloveactivelylooking': 49,\n",
              " 'Having2xtimesbusyIsuggestgoingbusyfoodorderscreensdifferentUSAcoolThestaffslightlymessedjobdutiesrememberUSMcDonaldsstaffbigcitiesmessedusuallykidsknowingjobMyfrenchfryscrispydietdrinkfineMyfriendsfryssoggywentgotnewbatchcoffeehotketchupTheyservepastryfrenchstyleItryyesIthinkbetterplacescornerParisThemensbathroomfineIsupposetouristsworldgetsbusyrestroomstrashedmessyfolkspartsplanetlikegetsmessyNewYorkLosAngelesguysThisplacepackedlocalstouristsAlsoIdontgotMacsgreatfoodIsnack': 50,\n",
              " 'HavingtimesdisappointedoutdoorseatingareabestfeaturelocationremovedWesurechangetemporarypermanentThisplacepackedlocalstourists': 51,\n",
              " 'Holdbreathenterstomachmensurinalswastetravelsrightfeetstandmetalgrid': 52,\n",
              " 'IMcDonaldsslowIfrushdontbotherThestaffmassiveslowfoodslappedIfgoingbrekkie': 53,\n",
              " 'IbrandgoodpeopleIaskdinemiddleregardedfoodcentreworldchefslearn': 54,\n",
              " 'IenteredlovelyestablishmentfurnishedfalsewoodfireplaceslighttileflooringfindranhoneymustarddippingsauceburgerssittinghoursTheedgesburgersstaleimaginablebelieftortillawrappedMcwrapgiantstalechipAdditionallymemberBigMacClubIhopingendearedmacsauceItoldsimplypossibleyaokayGolocationatmospherevibesdontstayfood': 55,\n",
              " 'IexcitedvisitMcdonaldsIwondermcdonaldsmacaroontastelikeIwentinsideorderkioskWhileIwaitingorderItookphotolikeshownmacaroonsmanagercamebarginglookphoneSheyelledtoldmcdonaldscustomersrightphotosinsidemcdonaldsSheaskedphonelookpicturesAfterleftcametellwrongcustomersphotosmcdonaldsUnbelievableBewaretakingphotosMcDsTheysearchphone': 56,\n",
              " 'IexpectedMcDonaldsprettygloballysurprisedservedmacaroonsclassicFrenchpastriesalongsideburgermenuThisMcDonaldshightechkioskslikeairportcheckinkiosksentranceplacefoodorderpaypickwayimmediatelyThatwayavoidlinelinespeoplearentsurewantorderIthoughtcoolestthingMcDonaldsofferedFrenchmacaroons': 57,\n",
              " 'IfMcDonaldUS’dconsideredfancyeateryTheysellmacaronsfancyPlusdifferentkindpastriesItiredfries’sgourmetespcomparedfriesUSMcDonaldTheespressomachinefancyimpressiveOrderinghugescreenslookslikecellphonewaitlinefoodTheplacenicemoderndecoration’scleanstafffriendlyIt’ssadsecuritycheckentranceTheyhandheldmetaldetectorsbagsearchSafety': 58,\n",
              " 'IfcravetasteAmericaawayhomeparisitsquickbiteAbitcongestedIdontvouchMickeyDsgood': 59,\n",
              " 'IfindwritingcomplementaryreviewrestaurantliketitlesaysAgoodexperienceAtlocationneedrightautomatedarrivedcorrectlytableminutesstafffriendlyentertaining': 60,\n",
              " 'Ifneedquicksightseeingeasyplaceseatingtoilets': 61,\n",
              " 'IfyourelookingquickmealbeerwashnormallywouldntconsiderMcDonaldsMcDlocationsEuropehappenservebeerThislocationbusynormalChampsÉlyséesIChickenMcFirstlukewarmHeinekenbeerfoodexpectMcDonalds': 62,\n",
              " 'IknowIknowInParisMcDonald’sWellshoppingChampElyseestimerealizedstarvingdecentlypricedrestaurantwasn’tservingdinnerdrinksItpmSogaveboughtMcDonald’sdreamedhavingbetterdinnerIdon’tmindMcDonald’susuallydreadfulEverythingtastedstalefrieshardkickerplaceabsolutelyfilthyTrashspillsstainsfinallysawcockroachesleftHadknown’dbadquickbiteboughtbagchipswaitedlatermeal': 63,\n",
              " 'IknowcountryParisbigcityIwordcomesmindDIRTYThebathroomscarydirtyThebreakfastsignrepeatedlychangedelectronicallybreakfastlunchconfusedpatronsPanhandlerswatchbelongingssitwall': 64,\n",
              " 'IknowyourethinkingWhysanepersonmiddlecityrenownedculinarycontributionsvoluntarilychooseMcDonaldslunchWellyourePariscoldmonsoonlikedayraincoatshoessoakedaudiblesquishleavetrailfilthywaterwalkMcDonaldssavedaytripmoraleServicefastefficientmenuwasntfarstandardAmericanversionfoodactuallyprobablybestIveMcDonaldsThreethingsexperiencestoodCleanlinessForhightrafficfastfoodrestaurantprettycleanMacaronsactuallyparLaduréeonesIveLacklanguagesnobsIveexperienceddecentderisionnativeFrenchspeakersIaskedconverseEnglishtriedappealrustypracticeFrenchHoweveremployeesIspokehumoredattemptsofferedEnglishpolitelyincidentItlikesmallthingrepeatedlylanguageattemptgotsnidecorrectionsrewardpolitenessgoodimpressionOverallMcDonaldsreasondecideMcDonaldsParisgoodchoice': 65,\n",
              " 'IlifeencounteredfastfoodindustrydisgustinglyrudearrogantImtalkingdayslaterthatsangryWeendedyellingcouldnttoldwouldntlistenignoredtellingendlinemindtookhalfhourfrontOkladytookorderwhilststoodlineorderedBigMacsauceBigMacsaladsaucecornichonwantedmeatcheeseonioneasyyoudthinkladytookordercorrectlyreceiptcorrectIvegothotlittlehandAfterhrwaitfinallycounterprovidemannumberHecashieroldermangreetinghairwearingcollaredshirttieactuallygotyocounterdaughterIcommentedmannerismscustomersnoticedshortblunttonevoiceaggressiveWecountersaidmeatcheesebunIsaidonionsaucecontinuedtellstaffgrillmeatcheesesaidnumeroustimeslookreceiptcorrectwantsurprisesurprisewrongonionsexplainedshookheadIsaidlookreceiptminutescorrectdaughtersmacsauceaskedsaucesaidlineIwentsaidNOIMNOTGOINGANYWHEREorderedlooklookhardgodsakesIworkmaccasIyoungerHeignoredminshopingwedawaystoodwaitinglikeangrypeopleladyapproachedhedforgottenordertoldyolinekiddingSowouldntspokeyoyoungboyminsladycomesIreceiptfixesFarterribleemployeeneedridhandgesturesgoingyesgavecallingsunpeoplelazylookwhatsIfemployeetreatedcustomerslikeheddoorEverycustomerorderedwhilstwaitedrudesinglegaveattitudeliveknowreporthigherDisgracefulnastyman': 66,\n",
              " 'IlikeMcDonaldslocationOKMydaddidntlikefoodsubparWouldrecommend': 67,\n",
              " 'IlikedkiosksorderfoodtimeIHoweverorderingIwaitfoodarriveTheydidntOreoMcFlurryleftOncefoodarrivedmanagedfindtableupstairsproblemWhenenteredexitedstorehassledhomelesspeoplebuyfoodThisMcdonaldsexperiencepleasurableOverallItryvisitstore': 68,\n",
              " 'IlikezerounfortunatelypossibleSlowstaffhorriblefoodTheworstMCDIvisitedManyblackpeopleWiFiconnectionImpossibleInternetslowpersonalPriceshighTerribleexperience': 69,\n",
              " 'IlovevarietymenuIwishbringmenusSouthAfricaIlovefoodorderscreenssavetimepaycollectorder': 70,\n",
              " 'ImMcDonaldsfanIvisitshortsnackIappreciatedquickgoodqualityservicestaff': 71,\n",
              " 'It7pmSundayeveningIvisitedIwentawaysaladFilletOFishkidThequeuelongrestauranthotIsawEasyOrdermachinethoughtItryuseEverythingwentsmoothlypointEvenorderslipEnglishItdisastercollectioncounterIvisitorspeakwordFrenchThecounterstaffshoutingordernumberFenchAfterwaitingminutesIwentcollectioncounterTheladymanagershoutingnumbersHerfacefuriousthrowingstuffincludingburgersAftershoutsnumberrespondshovedtrayFrenchlikecursingangryfaceIgotattentionaskedordernumberEnglishHerfacecrunchedtoldYOUwaitIrepeatedtwicequestionaskordernumberEnglishIcouldntunderstandFrenchShelatersaidISAYYesYouwaitVeryIwaitedNothingcalledEnglishMcDssystemdifferentiateordersdifferentlanguagesthatsIgatheredstandingscreenIstuckStandingminssureordercomeAnywayIdecidedlookordersshovedAfterlongwaitIsawlikeorderThenstaffshoutedFrenchIshowedticketsknowingwordsaidIfinallygotfoodHowMcDinvestnumberingboardorderscollectedneedshownboardcustomercollectAndMcDhirerudeimpatientmanagercounterHorribleplaceNotworthgoing': 72,\n",
              " 'ItcrowdedcleanEverytningbetterYounoteviewwantviewbestclimbArcTriomph': 73,\n",
              " 'ItearlymorninghusbandItookMetroArcdeTriomphebeginstrollChampsElyséesWellgothungryeatopenplacesawMcDonaldsChampsElyséesParisOMGMcDonaldsOKhomeParisThatsaidEggMcMuffincalledcoffeeThefoodexactlyUSAInsideMcDonaldscounterMcCaféservedpastriesespressocappuccinosTheyampleseatingsatcounterlookingChampsElyséesTherewomancamestoodnearhusbandIconvincedpickpocketItotallywrongdidntfooddidntsitstoodcloseminutesSoIrightwrongwatchpickpocketsscamsParisOfftopicIapproachedRingscamTuileriesGardens': 74,\n",
              " 'ItexpectedaverageserviceMcDonaldsbranchkindabadThestaffspokefrenchcommunicationhardmentionscreamnumberfrenchguessordernotThefriesoilcrispyburgerscamecoldedible': 75,\n",
              " 'ItgetsuncomfortableconveyingorderEnglishstaffAfterrepeatedlytakingwrongorderstartedrudeinsteadapologetic': 76,\n",
              " 'IthoughtcaserestaurantBoysurpriseDirtyimpolitepoorservicetattyOneworsemcdonaldsiveNever': 77,\n",
              " 'ItlovelyMcCafebitgorgeouscakeslookslikebakeryqualityMcDonadslikeUKIlovelytastingmuffinfriendpastrygoodnicewayeatParisianpastriescheappricesYouorderfoodmaincounteruseOnlinecardorderpointsThesedifferentlanguageoptionsorderfoodgetssentkitchenpayreceiveticketexchangefoodVerybigseatingareasuggestionrevamplittlestoolswornfloortilesbrokendoorwayoutsideseatingniceIfbudgetnicewayhavingdinnercoffeechampsélyséesbreakingbank': 78,\n",
              " 'ItoldfamilyfastfoodcoolpassThefooddifferentgoodTheyseparateareacoffeedessertsincludingmacaroonsGreatexperience': 79,\n",
              " 'Itplaceurestmealurfamilyreasonablepriceareausuallycrowdeddifficultfindtablesitfoodfineplaceclean': 80,\n",
              " 'ItrainyafternoonstoppedtastemacaronsMcCafeTheybestworthtryParis': 81,\n",
              " 'ItsMcDonaldsFrenchmenusTheylotseatingupstairsPriceslittlehighParisJustlikeUSfriescold': 82,\n",
              " 'ItsMcDonaldsmatterworldMcDonaldsMcDonaldsWestoppedRoyaleCheese': 83,\n",
              " 'Itsregularmcdonaldsenjoymealmicesplayingspecially1stfloor': 84,\n",
              " 'IunfortunatelydaughterscaredlocalrestaurantAftereatingIthinkIbrokenotionFirstcrappyMickeyDsfoodhomecosttripleWOWThatsaidserviceworkreceivedgood': 85,\n",
              " 'IvisitedMcDonaldsworldusuallyfindstandardsgoodiefoodqualitycoffeeetcconsistentfacilitiesThemenswashroomstoretrulydisgustingdirtytoiletpaperextremelyunhygienicMcDonaldsashamedpresentpoorimagecustomersTherenoticewashroomEnglishFrenchsayingwashroomscleanedminutestrulyfigmentsomeonesimagination': 86,\n",
              " 'IwalkingChampsElyseesIgettinghungryAndIstoppedlunchOrderingmealfunYouordertouchcomputerterminalThestafffriendlyhelpfulIsatupstairswatchedpeoplewalkingGreatlocation': 87,\n",
              " 'IwalkinggrandChampsElyseeslightaprildrizzleANXIOUSLYlookingtoiletIttookminsEuroswastedvendingtoiletsmachinetookmoneyrefusedopendoorfinallysawglowingMsignmetresawaySooooothankMcDonaldsinsistingruntoiletfreechargeappreciationboughtcuphotteachocolatecookieway': 88,\n",
              " 'IwantedQuarterPounderCheeseRoyalCheeselinemoviePulpFictionIwentlookmenuWhenIsawRoyalmenuIsnappedphotogotthrownangryrestaurantmanagertakingpicture': 89,\n",
              " 'IwantfindpositiveIlllocatedlovelieststreetyoullstrollthousandspeoplesameThatpositiveunfortunatediveendsWewaitedlineorderfoodminutesIttookminutesorderburgersfriespopscompletedincorrectlyWeendedtakingwrongfoodfearhavingwaitminutesThefriesundercookedThepopaskedThereshortageketchupThebathroomsnastyIthinkpublictoiletsEiffelTowercleanerThishorribleexperiencepunishmenttravelingParischoosingeatMcDonaldsWont': 90,\n",
              " 'IwentMcDonaldsChampsElyseesIcuriousMcDonaldsmenuParisLobeholdMcBaguetteTheplacecrowdedItlikewindowslinespeopledeepItryeatAmericanfranchiserestaurantsIcountryThecrowddistractionIloveMcDonaldsfrenchfriesworthwait': 91,\n",
              " 'IwentenjoyingChampsElyseesgreatterraceFoodMcusualManagementordersgreatdisorganizeddespiteselfordertool': 92,\n",
              " 'IwishMcDonaldsUSlookedlikeThedecorumnicermenubettervariedOrThehighseatingupstairsniceviewChampsElyssesTheFrenchMcDonaldsneedcoffeehotterthoughThetouchscreenorderingorderingeasiergivenlanguagebarrier': 93,\n",
              " 'JMJAChocolateshakeneedcontinuehikingstreetsParissurprisedfindChampsElyseesAlittleexpensiveenjoyedSecuritytightyoungpeopleleftitemstableunattendedSecurityquicklyrememberedwerenthome': 94,\n",
              " 'JunkfoodcrowdynoisystressfulhorrorTheytrylittleFrenchplacesaladssicksanitizedcornerbarFrenchstylemacaroonscakeslivedfrozencroissantsviennoiseriessmallmisshapenWelcomeworldwantbeautifulavenueworld': 95,\n",
              " 'JustlikeMcDonaldsCleanreasonablypricedstaffmanneredOvergoodcheapplacemeal': 96,\n",
              " 'JustwentMcDonaldsChampsElyseeskidsfamilyfriendsAt11h30SundayAugustImpossibleservicestandingdirectlycounterfacingemployeetotallyhelplessfallenmoonWefinallygotplaceorderchickenMcNuggettschickenburgerImpossiblechickenminutesanswerWesaidwillingwaitreadyplaceorderShetoldchickenWefinallyorderedafteranendlesswaitgotburgerstotallyutterlydisgustingbelieveIIlivingFranceyearyearsIhavingkindculturalshockOnhalfordersrequestedpaidAtstagesimplydecidedleaveNotbotheringcomplaintimemovingkitchenhappenedspontaneousstrikescommonFranceWeseensomebodymanagermovinghelplesstouristshopingmealFinallygotsickendafternoonAvoidcostsAndreSirois': 97,\n",
              " 'KatieXDannylovleydatekatiexdannyloveletsstartfamilylove': 98,\n",
              " 'KindsadgianttakingParisBUTImacaronsgoodIveheardsaidLaDureemakesIfpossibledontMcDonaldlocationschargelocationAndIlikeseparatecoffeebarspecialtycoffeewantThefreebathroomaddedbonuskeptAndseatingpremiumIsawpeoplecomeyellingmatchtableNotplacerelaxgoingArcshopping': 99,\n",
              " 'Lotsdisappointmentadd1StaffpoliteTheythinkTheyhelpingprovidingorder2OrderstakenseparatemachineneedpostmoneypayingcashIorderedButpeopledontcareorderedfoodcorrectlyEverytimeyoiuneedmissingstrawmissingTomatoKetchupneedtellthemOneworstMcDonaldsstoreItill': 100,\n",
              " 'LovingworldchanginggoingfastroboticlookParisMcDonaldsmechanicalscreensnewmcdonaldsordercountersWOWlovedMCkidthoughtawesomehappymealskidstoysandchickennuggetschildhoodplaceHighleveltechfashionandfoodfrancWonderfulParis': 101,\n",
              " 'MacDoloversstayhomeeatFrenchTheChampsElyceeFrenchletsridforeignfastfoodbergerspizzasworldsfamouslandmarkssilvousplaitbringrudebistrowaitersrealFrenchfriesinsteadprefabjunkfoodberealtouristtrylocalcuisineletParisiansChampsElysee': 102,\n",
              " 'McDonaldsAustraliasomewhatclassyrecentrenovationsParisbeathandsEfficientservicefriendlystafffoodcomeexpectMaccasDecortidyappropriateparticularlygivenlocale': 103,\n",
              " 'McDonaldsChampsEllyseesAttitudestaffarroganthighheadedfailedunderstandfoodorderedrequestedsupplyorderedreturnedmoneyrefusedserveThenvisitedMcDonaldsnearbyissueenjoyedlot': 104,\n",
              " 'McDonaldsParisdefinitelydoesnttastelikeMcDonaldsAmericaIAcreativityIloveoptionorderlargecomputerscreenordercounterlivepersonThisuniqueexperienceicecreammachineactuallyworkedlolYallknowAmericanMcDonaldsicecreammachineswantsundaeIlovedofferedunusualitemsmenulikepotatowedgesmacaroonscoldcutsandwichescurrydippingsaucebeerIsawpeopleorderingHeinekensmealblewmindThisbusylocationMostlikelyhightouristvolumeshoppingmalls': 105,\n",
              " 'McDonaldsParisdifferentUSWeatetwicebreakfastplacesopenUStimeawhileWeatelunchMenuitemsdifferenttastedifferentyourelookingtastehomewasnt': 106,\n",
              " 'McDonaldscloseArcdeTriomphperpetuallycrowdedtablesavailablebumpingelbowsleftrightlonglinepoorlyventilatedbadsmellingslipperybathroomsThereseparatestationorderingsmoothiesicedcoffeemacaroonsdessertsThedessertsoverlysweetThemangosmoothiefilledcupTheicedcoffeesweetsyrupunpalatableThenIorderedsandwichesrapidorderFrenchfriestastedfinelikeAmericanfriesHadaskketchupThesandwichnewchickensandwichcheapestmenuEurossandwich650mustardMeatdrybaguettegoodBigMacEurosMeanwhilepeoplehoveringtryingsitVeryunpleasantexperience': 107,\n",
              " 'McDonaldsfamiliarfoodquickeasyeasymealtravellingItexperienceorderedcompletelymachinestalkingstaffInitiallydidntrealiseIcantstaffhelpfulendfiguredHubbychuffedorderbeermealTheviewChampsElyseeshugewindowprettycool': 108,\n",
              " 'McDonaldsfillsgapCertainlyhautecuisinestandardfamilyfindgreatboltholehungerhitsFullycomputerisedserviceefficientfoodchanges': 109,\n",
              " 'McDonaldsfoodworldTheredifferencepriceWewentMickeyDsHotFudgesundaeDownstreet100YoulaughfactchargepackketchupCanbelieveitWhenEuropesurebringketchuppacketsIuselotketchupfriesextraburgerWowextraCouldsundae': 110,\n",
              " 'MylawsvegetariandisappointingMcDonaldcatervegetarianAspastlunchtimehungryaskedstaffburgerbreadsaladInsteadONLYcabbagebreadIrequestedstaffaddslicetomatobadmanneredsupervisoransweredallowedremovethingsburgeraddmatterpayingprice': 111,\n",
              " 'Niceplaceworks2amVerycrowdedselltypicalmacmealsHasMcCafeinsidesellmacaroonNiceadditionMacoptions': 112,\n",
              " 'NonemloyeesspokeenglishtellcashierdidntchangeNofreerestroomsIexpectablecommunicateenglishtouristyspotlike': 113,\n",
              " 'NotpoliterudeNotbelieveTrysmartphonepointinsideSomeonecomeyelluItryingbuyIwalkedIguessIbuyAndtrystopfamilyfriends': 114,\n",
              " 'NottypicalMcDonaldsTherestaurantfarposherMcDonaldsVeryfurnishedgoodvarietyseparateMcCafebarPlentyseatingareaniceseatsupstairsnearwindowallowingniceviewbusystripMuchbettercoffeewatchworldcafeprobablypaying€3': 115,\n",
              " 'NotunusualFoodcoldservicequickorderingexpressmachinenoveltyOrderedchickensandwichmealmediumfries€970IknowChampsÉlyséestouristprices': 116,\n",
              " 'OKMcDonaldsprettynicefurnituresfancyButCharlesDeGAULLEssakeChampsElyséesPleasecrossstreetFouquetsbitexpensive': 117,\n",
              " 'OKplacesgrabParisiancupcoffeeAnylittlecafeauthenticexperienceButChampsElyseesneedlittlenibblestopvisitMcCafeOrderpetitbaguettesurprisedeurosgreattreatsmallbaguetteprettygoodqualityactualbutterminijarBonneMamanpreservesApleasantsurprisegooddealeuros': 118,\n",
              " 'OKwantedjoinParisiancafeculturesitpavementChampsElyseesdrinkingcoffeeWelookedrestaurantsfoundcostoutrageousSopleasedoldfaithfulmacdonaldsTheyelectronicorderingmachinesorderedgotcoffeeminutesIdontknowunluckychoicelattecappucinostandardcafeWhenIaskedmilklaitpreferwhiteIgivenstrangelooktoldmilkSoblackcoffeeFortunatelyIdorderedicedteagreatSooverallgreatorderingsystemgreatviewArcdeTriumphCampsElyseessatoutdoortablesStaffbitrudeunhelpfulbettervalueoptionsarea': 119,\n",
              " 'OMGchaoticOrdersselftakenappscreensplaceprintticketlooooonglinepaydoubleworktimefuzzwaitordermadeservedFINDAPLACETOSEATDefinetlyNOTAGOODCHOICE': 120,\n",
              " 'OkIfastfoodfanIgrandaughterswentInyoungerdaysIplayedrugbycloseIgotrecentyearsscrumTryingfooddifficultgotsitstandeatThenfoundfoodorderedcoldunpalatableNever': 121,\n",
              " 'OkYESQuiQuiISMcDonaldsButheyItsParisThisfunquickstopamazinglowcostpastryIftummyisntfeelinghotamazingrichfoodsFranceMickeyDsgoodoptionAftergettingfoodpoisoningEiffelIoptedkidsmealMcDonaldsIgotplainburgerSpritecountrycutfriesmmmmapplebananasaucesimilarbabyfoodsuperyummyyuckytummyOverallgoodoutdoorseatingfreerestrooms': 122,\n",
              " 'OnAugustpmvisitedMcDonaldChampsÉlyséesmainfacingmainroadmetersArchdetreimphwaitingminutesstandstillpositionIheardplacesupervisorarguingshoutingcustomersexpresseddissatisfactionpolitemannerThesupervisorstubbornaggressivedefensiveoffensiveIbelieveIheardIsawIsteppedjoinedcustomerstrialcorrectrudeSupervisorsattitudeaskdutymanagerreplieddutymanagerIaskedrepliedmrMcDonaldsgotclosetouchedsaidalloweatrestaurantHestartedstopedspeakingenglishstratedspeakingFrenchrudeexpressionsItoldIspeakFrenchcontinuedwalkerepeatingeathear': 123,\n",
              " 'OneexpectfastserviceservicecountersservingtouristslookingquickmealcarryrestitinerarydayThereservicecountertakingpeoplelookingpaycashlongqueuehelptourgroupdecidedstopprepaidcountergirlsstandcounterchattingawayTherelotseatingfloorsMcCafeentersfreeWiFiokaytourgroupsateatFoodfindMcDonaldsstandardsstaffunderstandEnglish': 124,\n",
              " 'OnelargestMacDonaldsrestaurantItoespeciallyupmarketstreetlikeChampsEylseesEquippedservicecountersoneregularstuffspecialtyshakesncakesnicecreamsOverallgoodplacesiteatenyoy': 125,\n",
              " 'OrderedfoodelectronicorderingstationtookminutesfoodreadyLotspeoplecomplainingCompletelydisorganisedrestaurantchaosAvoidwantquickTakeawayfood': 126,\n",
              " 'OurhotelcloseChampsElyseesuseMcDonaldsoccasionscheaperoptionservicegoodpricesreasonableTheMcCafesectionnicepastriessitwindowwonderfulviewArcChampsElyseesWeendedSaturdaynighttimeplacecrazybusystartinglooklittlemessybusyMcDonaldstimesvisitedplaceexceptionallycleanpleasant': 127,\n",
              " 'OvercrowdedlenghtyqueuesrudeservicebadfriesMcDotablesclearednoisyjambonbeurresandwichstreetcaféinstead': 128,\n",
              " 'ParisexpensivePreparepaydoubleMcDonaldspayAustraliaItsprobablybestfreshfoodmarketscookyourselfGetaccommodationkitchenettemicrowave': 129,\n",
              " 'PersonnelleaccueillantTablessallesVitrespaslavéesEmployeesokTablesdirtywindowscleanedNotexpectMcDonaldsbeautifulavenue': 130,\n",
              " 'PoppeddrinksnackstopbustourMadelifeeasierorderingpayingscreenHoweverwaitfoodlongconfusingclearstandwayorderedThefoodstandardMcDonaldsTeaEarlGreyendeddrinkinghotwaterToiletqueuelongIdidntbotherdaughtersaidwerentcleanWifiappreciatedreliable': 131,\n",
              " 'QuarterPounderCheesecravingshappen': 132,\n",
              " 'QueuehugeIcecreammachinebrokenNomilkshakesMoreexpensivestoresChipsfreezingNoicedrinksHadwaitminuteslongertableStoredirtyNostaffcleaning': 133,\n",
              " 'ReallylocationnearArcdeTriumphgoodspacegreatviewChampsElyseesAvenueNiceplacecheapmealstasteFrenchmacaroni': 134,\n",
              " 'ReallywayParisstopMcDonald’sThisMcDonald’sChampsElyseessecondflooroverlooksbeautifulboulevardItinterestinglinesrowkiosksoperateTheresectionlovelypastriesItgreatplacestoploadfeetwatchpeopleusefreepublicrestroomTherestroomstopBigRedBusTourItALWAYSgreatideabringpackagehandbacterialsanitarywipesABigMacBigMacfriesMcDonald’sfriesThecultureinteriorworthminutestimeYesvisitedfamousbusyMcDonald’sworld': 135,\n",
              " 'ReviewDrSimTheMcDonaldsChampElyseesprobablycheaperplacesmealareaIwentdrinkescapeParisJuneheatTheplaceairconditionedServiceslowCokegoodLocationgoodRegardsDrSim': 136,\n",
              " 'RightChampsElyseesgoodcentrallocationgoodmeetpeopleeasyfindUsualfoodbitexpensiveMcDonaldsParisBepreparedwaitbusy': 137,\n",
              " 'SamemenuMcDogreatlocationTryBigMacOrRoyalDeluxepersonalfavorite': 138,\n",
              " 'ServiceslowbusyPariscashiersclosedpeaktimes': 139,\n",
              " 'SometimesneedeasyfamiliarcheapMcDonaldsworksIfeelstandardParisbetterUKMcCaferangeworksParisianmarket': 140,\n",
              " 'SooryParisChampsElyseesexplainMcDeatbetteroptionsexpensive': 141,\n",
              " 'StaffappeardisorganizedunmotivatedOverallpoorexperienceHaveeatenMacdonaldsworldfoodpreppoorMoreworkkitchenbetterstafftrainingcashesStaff“don’tcare“attitudeOnepositivenotesecuritypersonpleasantprofessional': 142,\n",
              " 'Stafffriendlycoffeegoodsavereceiptwortheurousetoiletfoodcourt': 143,\n",
              " 'TeagoodexpensiveeuroscupButMcDonald’sParisletsbadlybotheringmaintaintoiletscostcentsfreeasktokencustomerSoneedtoiletdon’tMcDonaldSParis': 144,\n",
              " 'ThankMcDsfreebathroomsWiFiworldI’msorryIsawfittrytangystrawberryconeParis’sfoodI’dtrytownThatsaid’MVPcomesconveniencereliability': 145,\n",
              " 'TheBestCappuccinoIdrinkEuropeEverydaymorningthingIwantCappuccinocroissantpastriesMcCafebestlotexcellentqualitypastriesRecommendedtrymorning': 146,\n",
              " 'TheFrenchthingsbetterIeatMcDonaldsyearoldParisIIpleasantlysurprisedTheyofferdifferentthingsStatesIgoodChickenCaesarSaladHappyMealdifferentsaucesTheylargevarietyMcFlurrieshitIfbetterthink': 147,\n",
              " 'TheMcDonaldscrowdedbigmacstastedifferentUSATheserviceprettyfastconsideringcrows': 148,\n",
              " 'TheactualMcDonaldslikeexpectMcDonaldsmodernscreensorderfoodThetoiletsdisgustingcubiclespilesanitarytowelstamponspiledbintoiletIthoughtcubiclecheckingnearlygaggingIrealisedlikeIfindtoiletpaperIshockedIgoingphonepicturesIcouldntfaceAbsolutelyshockedappalledwomenstoiletsstatemodernEuropeancityIlooIburstingdidntknowIfindShockingspentgettinglateststateartorderingsystemsscreenscantkeepingSanitarybinsemptiedshameMcDonalds': 149,\n",
              " 'ThebestsettingMcDonaldsworksfinebusygetshecticbusygreatsitglasswindowseatsfloorfoodreasonablypriceddidntwaitlongbusycafeservingdifferenttypescoffeepastriescakessaladbarsectiongood': 150,\n",
              " 'ThecitadelAmericanculturerightChampsÉlyséesItMacdonaldsAndmeansfastserviceassuredqualityTheselforderingsystemworksToiletscoinoperatedusefulespeciallywomen': 151,\n",
              " 'ThecrowdsunbelievableThedessertcounterlikeMcDonaldsgourmetcakescookiesetc': 152,\n",
              " 'ThefoodalrighttypicalMcDonaldsqualitycheapgoodfillingBeingFrancetriedmacaronsgoodflanThemainissueplaceserviceTheladychargeMcCafesectionuncomfortableOnhandIfeltsorrydealLOTSordersmainlyexperienceIunderstoodstressedSheneededhelpHoweverrudeAskingcustomerchildharshtoneWhatwantgoodcustomerservicematterstressedSheunhelpfulunorganisedrudeendstoryOnrestaurantstaffalrighthelpfulIsayOverallIrecommendplacecheapeatChampsElyseesexpectnotsogreatcustomerservice': 153,\n",
              " 'ThefoodgoodstaffslowisntphotosmealslikeMcdonaldsworldscreensmallfontmealexplanationannoyingfastIcantcatchwantphotosmeals': 154,\n",
              " 'Thefoodlikemcdonaldstriedplaceclean': 155,\n",
              " 'ThefoodstandardMcDonaldsOKlikeParisMcDonaldsorderedselfservicemachineHoweverbewarebranchesMcDonaldsChampsElyséesThisnumbergroundfloorboastinghugewindowboulevardDiningspaceswidequeuestoiletsThebranchnumberscoresworsepoints': 156,\n",
              " 'ThegoodthingchainsfoodconsistentSamesaidWewentmainlyIRoyalCheese': 157,\n",
              " 'TheirfoodhorribleItEvantastelikemeatrealfoodWhenIaskedcokegavedietcoke': 158,\n",
              " 'ThereIttimeMcDonaldslikefastfoodrestaurantItsdirtynoisypeopleFoodspecial': 159,\n",
              " 'ThereMacDonaldsChampsElyseescrowdedpeopletimeLonglinestourists': 160,\n",
              " 'TherelotpeoplewaitinglongcomparisonIwonderpriceshigherSwitzerlandChampsElyseeMoreoverdoublecheesebaconburgerdidntmetstandardsdryhellTheIrestaurantsIregretTherebetterburgers': 161,\n",
              " 'TherestaurantextremelydirtydirtytablescleaningEverytabledirtyfoodfloorTrashbinsoverwhelmingtrashStaffrestaurantmanagertalkingcounterMostproductssold': 162,\n",
              " 'TherewordTerribleColdfoodstaffdontclueThereorganisationwhatsoeverTheydidntsellmilkshakesThenicethingsaucechips': 163,\n",
              " 'ThesandwichesgoodfriesordertakeslongtimeservedplacessitplacecleanIlikethanksecurityIforgothandbagshopIcamehourkeptbagpassportsIlostgreatproblemkeptsafethankslot': 164,\n",
              " 'Thesandwichesgoodfriesordertakeslongtimeservedtheeshopcrowded': 165,\n",
              " 'TheserviceslowTheMcDonaldsstaffAustraliabetterservicelotfasterserving': 166,\n",
              " 'Thewaitwomenstoilet15minsWhenfinallygotsawwantedpaytoiletstallsusepeoplegrabdoororderpayThestatetoiletsdisgustingTrashpiledwastehightoiletpaperWepaidusetoiletsorderingfoundgottentokenusetoiletfreeGeezTheorderingprocesssmoothkiosksorderFoodcamequicklyAfterorderingwaitedminutesordercomeThefoodtastesUS': 167,\n",
              " 'TheworkersdidntgoodservicecantspeakEnglishThewifiusableconnectionpoorInshortPOOR': 168,\n",
              " 'TheworstMcDonaldsINotorganisedwrongordersholdingreadyordersinsteaddeliveringThestaffcompletelylostknowingsupposeddoThemanagersincompetentarrogantNotcloseMcDonaldsqualitystandarsTheyveprobablymissedtrainingforgetdontcareMcDonaldslookdamagemajorstoreChampsElyseesimage': 169,\n",
              " 'TheworstMcDonaldsrestaurantIAndsecurityrudeImgonnaeat': 170,\n",
              " 'TheworstexperienceIMcDonaldsHorriblerudeagressivemagagerPulledchairhitfriendHethrewCokeawayWhyWesittingminutesMcDonalds': 171,\n",
              " 'TheyheardglutenfreebunsIthoughtMcDInSwedenNorwayrestaurantfactreasonwentMcDMysonglutenintoleranteatcoldfries': 172,\n",
              " 'ThisMaccyssituatedChampsElyseesbrilliantlocationfarArcdeTriompheFreewifisaladbarmuffinsbestairconParisWesatoutsidehotAugustsuneatingfoodwatchingworldFantastic': 173,\n",
              " 'ThisMcDobviousplacetoiletsuseencounterwayChampsElyseesArcdeTriompheAmericantoiletspricecheapsnacksalveconsciencethemNowmalestriderightstandunitlookslikemetallatticedraincoverfeelcomfortableminuteNotwomenqueueepiclengthrovingreporterpartnertoldfinalobjectquestfarorderlysqueakycleanSaltLakeCitysoapstoreOnecantblameMcDsfacilitiesconstantheavyuseservicingliketryingcutgrasspitchfootballgameOhfoodYeahOKservedquickly': 174,\n",
              " 'ThisMcDonaldButnormalMcDonaldSoknow': 175,\n",
              " 'ThisMcDonaldsItsellstypicalMcDonaldsfaretypicalMcDonaldsfashionIcameIorderedscreenIpaidIstoodminutesIcollectedIwentt9hotelIateBigMacfriesdrankCoke': 176,\n",
              " 'ThisMcDonaldsprettylargecomparedonesItscloseArcdeTriomphebadchoicewantgrabmealrealquickThethingplaceprettycrowdedexpectlonglineThingschaoticpeopletheresstaffhelpJustreadywaitlongfoodNotfoodlikeburgerswrapssatisfiedAndIhighlyrecommenddeliciousmacaroonstry': 177,\n",
              " 'ThisMcDonaldsworseIwaitminsfoodgotcoldundercookedawfultriedcomplaingetsmessengeremailaddresssendcomplaintpostaladdressIsoonItimewriteavoid': 178,\n",
              " 'ThisMcDonalgoodmcCafeinsidefreshCroissantgoodCoffeeLattethingsbreakfastlikeBurgersawarelongerwaitingtime': 179,\n",
              " 'ThisfranchisedoesntmeatminimumlevelcleanlinessItsurprisingMcDonaldsletactlikethatTheyeasilybetterchoicesavenue': 180,\n",
              " 'ThisplacebamminslamminspectacularThefoodbombhellroboservicegucciafDefinitelygivingjointgreencirclesBetterthotWendysDefinitelycomingFranceMcDonaldsCheersluvcavalrys': 181,\n",
              " 'ThisplacepackedlunchMoreregistersgoingUSMcdonaldsTrypastriesYespastriesRealFrenchpastriesfootlongglasspastrycabinetFunwatchyoungpeopleFranceMcdonaldsTheydressbetteraverageAmericanageAlwaysscarftallboots': 182,\n",
              " 'Thispleasantsurprisecoffeebreakfastcame500WepayingcoffeesSuchsweetgiftnostalgiagoodoldUSAReturnYesRecommendYes': 183,\n",
              " 'ThisprobablybusiestMcDonaldsworldEthernetfoodscratchhavingworkedGoldenArchesexcusesatelobbytoiletslaterworstIseentravels': 184,\n",
              " 'ThisrestaurantisntspaciousrestaurantschainIcamefriendsTheplacesattightToiletuntidyPrettypoorlylitrestaurantItastedOreoicecreamplasticcupHegoodfrozenTherestaurantbetterarrangedlocatedgreatlocation': 185,\n",
              " 'ThisrestaurantsituatedminutewalkhotelidealgettingquickbreakfastdayordermaximisetimeParisTheresecuritystaffentranceconductbagchecksThisappliesstoresChampsElyseesreassuringgivencityexperiencedrecenttimesTherenumerousselfservemachinesrestaurantorderlanguagesavailableshouldntissueYouelectpaycreditdebitcardmachineelectpaycashIfprintsreceiptcounterspaystaffaccordinglyThefoodabsolutelyfineplentyseatingavailableupstairsThereseparateenclosedroomlevelquietspaceWifinicefast': 186,\n",
              " 'ThisrestaurentmadupradeUnitedKingdomMytravelFrancefancyfancyventuredchainThesmellwinecheeseprevelentIinsteadsmeltburgerssweatybodiespiledrivingchainThatloveBTWneedflowershitupThisstop195': 187,\n",
              " 'ThoughtIpopheadstandardpeopleenjoyingmealsthatsImgoing': 188,\n",
              " 'TofillquickconvenientdontwantlingerlongtimechampsElyseeOfcourseMcDsnicerStatesJustpreparedfastUSservicegoodvaluenonetheless': 189,\n",
              " 'Trychickenburgeramazinggoodqualityhelpfullstaffobligedwaitordermealmachinepersonturnnumber': 190,\n",
              " 'TypicalMcDonaldsgoodfoodchildrenItbusyvisitedknowingyouresuperlocationheartParisaddsspecialDefinitelyfinediningknowgettingbrandprettysolidGoodbudgetfillupchoosypalate': 191,\n",
              " 'TypicalnormalMcDonaldsthingtimegrowdedAtknow': 192,\n",
              " 'UnbelievablemiceSearchYoutubeyoullfindvideosBusiestMcDonaldsshouldntlike': 193,\n",
              " 'UnbelievablyslowservicelunchtimeweekendtookminutesnormalMcChickenmealTherelotspersonnelinteractioncustomersYoupayplaceordermachineswaitminuteslinefoodNiceinteriordesignsavetimeFrieswarmfreshBurgerOk': 194,\n",
              " 'UnexpectedlygoodCoffeeMcDonaldsAndniceoutdoorseatingarearightChampsElyseeWouldratedvisitrudeserviceladyMcCafesection': 195,\n",
              " 'VerybusySaturdayexpectserviceadequateThestaffrushedfeetcopingcrowds': 196,\n",
              " 'VerybusyoutletneedwaitbitdeliveryPunchrequestmachinesrightentranceCautiontimesacceptcreditcardneedqueue': 197,\n",
              " 'VerycrowdednoisyplaceThefoodtastedLikeMcDonaldsCleanspacious': 198,\n",
              " 'VeryfastserviceAmenucostslikeeurosItbigrestaurantgreatlocationFoodusualMcDonalds': 199,\n",
              " 'VeryplacedArcDTriumphmodernMcDTheelectronicorderingsysteminterestingneedsrefinementpaymentsectionItobvioustranslatepaymentorderreceiptLuckilypeoplesupportsystemTheactualordergraphicsgoodThesnackcakeslookedgoodTheupstairseatingareagoodcomfortableOverallgoodMcDonaldsApleasantexperience': 200,\n",
              " 'VeryrudearrogantstaffThegirlservedinterestedfriendservingIaskedmilkthrewcounterDontstartedtoiletsDisgustingNever': 201,\n",
              " 'Visited1030pmwalkingchampélyséesfirstlywentcoffeestationpeopleworkingfinallysawsaidstationclosedWewentrestaurantjoinedlinetillsopenstaffbackgroundchattingwaitedminutesWhengotqueueaskedteasservedaskedmilkWetoldmilkfinishedeveningWehappypaidleft': 202,\n",
              " 'VisitedMcDonaldsChompsElyseesrecentParistripThecafehugeaccommodateteamingvisitorsHighstreeteaseMenuquiyeelaboratrOrderedcheeseburgerfriesgoodfindfamiliartasteMaceateriesOnflipwerentburgeroptionsvegetariansTheattachedMcCafedecentvarietyhotdrinkscoldbeveragesWorthvisitwalkingfamousParislandmark': 203,\n",
              " 'VisitedMcDonaldstripParisholidayDisneyPrettyexpectMcDonaldsnicenuggetschipsServicepoorInsteadnuggetsusuallyreceiveshareboxincludedIfeelingbusyqualityservicesubsequentlysuffered': 204,\n",
              " 'VisitedfinalweekendTourdeFranceincrediblybusystafffairlypromptlargemenuchoicePoorwcfacilitiesladiesqueuingdoor': 205,\n",
              " 'VisitedwifeyoungkidsJulyIt8pmplacerockingTheresturantheartParisChampsElysseswalkingdistnacemajorlandmarksIfwantquickreasonablytastefulprovidesitdownmealbudgetplaceBewareminutesservedamazinglybusy': 206,\n",
              " 'Waited30minlinepeoplestaffslowlookedlikedidntwantMcDonaldsParisjoke': 207,\n",
              " 'WalkingChampsElyseesneededcoffeefixcheckedFrenchcafeswantedeuroscoffeecappuchinolattesespressoslikehalfpriceMcDonaldscomplementdrinksfrenchpastriesInterestinghightechenvironmenttabledeliveryservicerfidlocatorsNotgenerallyMcDonaldsfangoodexperience': 208,\n",
              " 'WalkingpastMcDonaldswayhotelIChampsElyseesMickyslikeItpackedgilslateThursdaynightSurprisinglyFrenchyoungstersloveplaceIthoughtILouvreIscoldedloudlyIpermittedpicturesinsideMcDonaldsCanbelieveItriedpicturemenubringhomewayIgoingwaithalfhourhamburgerThereMcDonaldsPariscrowdedcuptea': 209,\n",
              " 'WaswalkingdistancehotelYouArcopenlateCashiersspeakEnglishTheyordernumberFrenchsurelisteningpayingattentionspeakFrench': 210,\n",
              " 'WeactauallyatetwicevisitedChampsElyseesIfoundplaceperfectlycleantablesconstantlycleanedrubbishremovedWhatIlikedorderfoodmachinesetlanguageclearlylookmenuoptionspanicdecidingcounterTheservicequickefficientordermachinecollectordernumbereasyUpstairsloadsseatinglovelyrowlovelyviewshopslightsnight': 211,\n",
              " 'WeatevisitingArcdeTriomphItseasywalktunnelArcWhilegotcheckedsecuritygoingImsureaddedsecurityEuroIdontknowWewantedeat9yearoldloveMcDonaldsthoughtcooleatChampsElyseesspendingtonmoneyItlikeMcDonaldsorderkiosksfeelcomfortableorderingfooddontknowlanguageInoticedemployeesspeakEnglishprobablyeasyordercounterTheMcCafeniceTheypastriesincludingmuffinsmacaroonscakesetcTheymacaroonscutelittleboxTheyhalfpricepayboughtcafesTheywerentbesttastingmacaroonsIdefinitelyrecommendtryIenjoypeanutbutterchocolatemuffinIhighlyrecommend': 212,\n",
              " 'WebudgetoptedMcDonaldssafegoodvaluebetThedecorimpressiveclassaverageoutletkeepingsettingsmakesgoodatmosphereespeciallycreatessectionslikeroomsFoodusualconsistentstandardEuropeTriedterribleFrenchorderstaffspokeEnglishproblemmakingunderstoodThereselfserviceorderingfacilitieslongtimegroupOverallexcellentexperiencedecidedusetoiletswayTheladiesqueueterribleincludingexcrementfloorbusyAugustSundayclearlycleaningprotocolwasntkeepingpaceSoenjoyfoodusefacilities': 213,\n",
              " 'WeeatButnicecleanbathroomcamehandywalking': 214,\n",
              " 'WeheardpopularstopChampsElyseesdecidedcheckItbusyloudThefoodgoodtooklongtimeorderfilledelectronicordersystemTheWCgeneralfacilitiesdisappointingWithcustomersattentiongivenkeepingtablesWCcleanSecuritypeoplepleasantpeoplecounter': 215,\n",
              " 'WeknowwhatsmeekeedeesdontIfpreferLaduréeoppositecatwalkWellIdealdependingMojotellingIllreadyLaduréesingledayMcDChampsElyséesInicechoicecomparingshopsworldbest': 216,\n",
              " 'WellMcDonaldswentdaughterinsistedExtremelybusyparticularlycleanToiletfacilitiesinadequateespeciallyladiesLuckyfindseateatmealdeliveredFoodexpected': 217,\n",
              " 'WelllocatedeconomicconvenientdiversebeautifulstreetworldGreatlocationoutdoorfacilityrelaxcupcoffemealForkidsexcellentoption': 218,\n",
              " 'Wellyourerunideaneedeatfastlookingfamiliarbestchoice': 219,\n",
              " 'WentMCD1145pmTuesdaynightItbusybusyOrderedMcchickensandwichmealIttookminutesreceivefoodNotfoodcoldsoftdrinkflatItriedcomplaincomplainingThedutymanagerlookedlostreststaffdutyIdumpedmealbinleftDisaster': 220,\n",
              " 'WentaffordablenormallyquicktimewaitminutescounterfriesreadygotcoldtraygirlfriendscheeseburgergotcoldSignaturehamburguercameIactuallyeatrightstandingcountercoldwaitingrealistodorderserversrudeshowedemotionsThisexpectsarea': 221,\n",
              " 'WentcheapdinnerfamilymaybeloveParistalkingwasntworstthingworldAlthoughstaffrudeIassumeIspeakterribleFrenchTheygotorderrightreadyquicklyTheyserveHeinekenbeermarksMightIrecommendCaliforniaChickenBurgerbetterFloridaBeefEitherwayMcDonaldspayNotbadLondonbranchesThebathroomdirtyIfaffordnicerplaceChampsElyseesmeansvisitinstead': 222,\n",
              " 'Wentfamilybreakfastnormallyopens7amParisBeentillwouldntletinTheirhourswork7amFinnallygotinsideVerypoorstafffoodOrderedwantedpaymachinewaitingorderminsdidntIwantmention‘mcdonalds’busycomeorderAfterlongtimewifewentaskfoodtheladylookedangrytookreceiptseceuroorderIattachpictureufreshfoodVeryinnacurateorderrudestafffinnalyMcdonaldsItschinesecopyAvoid': 223,\n",
              " 'WepoppedMcDonaldsvisitingArcdeTriompheItshortwalkleftwalkingawayArcItfloorsenjoyorderingflooreatsecondfloorpeoplewatchingfolksstreetTherekiosksordermealsseparatecounterordervarietycoffeesbakeryitemsAlargelatteeurosThererestroomsfloor': 224,\n",
              " 'WepoppedlunchtimeexpectedmadbusyWeunableuseEasyOrdermachinesruncertainsoftdrinkswasntidealgot': 225,\n",
              " 'WepressedtimefranklywantingdineAmericanscheduleearlyThekioskstookminutefiguremasteredgoodPaymentcashcounterpersonThefoodtypicalMcDonaldsconsistentlytastyworkedgreatThefacilitybusycleanTheladiesrestroomrequiretokenuseprovidedpayingmealcounterask': 226,\n",
              " 'WestayedMarriottChampsElyseesblockfoundgoodoldAmericanstapleMcDonaldsWhatwelcomereliefspendingbreakfastadultsgrandkidshavingspentdaypriormorningsIsurprisedfindseparatepastrydepartmentMcDonaldslotnicepastriesNeverseenStates': 227,\n",
              " 'WestayingchildrenDisneytooktraincentralParisGotChampsElyseestartedwalkroadskiesopenedlikemonsoonDashedshelterlunchmanagedtableupstairswindowGreatviewTypicalMcDonaldsfayre': 228,\n",
              " 'Westopped10pmtouringArcdiTriomphewifibreakrestbitWetriedCrouqueMcDoprettygoodLolThisMcDonaldswasntcrowdedclosethingsetcIusuallyavoidMcDonaldsnicesitWifibit': 229,\n",
              " 'WestoppedMcDonaldswayArcdeTriomphelunchTherestaurantbasementshoppingcentrecrowdedTheyselforderingtouchscreenstationsunlikePortugalallowcustomisationorderegicedrinksremoveaddingredientsburgersTheysomewhatslowendpressingthingsresponseendmanageordertookfarlongFoodexpectedMcDonaldsItpinch': 230,\n",
              " 'WestoppedwalkingseenlargeMcDonaldsmultiplefloorsTheyFrenchbakerycroissantspastriesTablesallowgreatviewChampsElyseeswonderfulbreak': 231,\n",
              " 'WesurprisedfindMcDPariscafesittingareaChampsElyseesFoodlinesinsidelongfoodinexpensivehigherMcDsUSWefinallygotfoodtookoutsidewaitmintablefoodcoldUnfortunatelyawninggarbagetablesfloorattractedpigeonsOneemployeecamehalfheartedattemptcleardirtytablesWeinterruptedtimesbeggarsMcDonaldsfaultirritatingThererestaurantchoicesChampsElyseesexpensivefoodfreshercafescleaner': 232,\n",
              " 'WetatortotsavailableMcDonald’sIvisitedstatesexcitingofferseekinglatenightfoodParisHowevercostMcDonald’sParishigherworthIprobablywon’toption': 233,\n",
              " 'WetriedfrenchmcdonaldsmenusdifferentItokspecialShamehomelesspeoplesleepingrestauranthavingcodesunlockdoorspurchase': 234,\n",
              " 'WetryMcDonaldsParisIteasyordertouchscreenorderingoptionWegotPTiTRanchReallycrispyranchsnackwrapLABOÎTEÀPARTAGERdifferentfrieditemschickennuggetschickenstripsfriedcheesewasntbigfanfriedcheeselikefriedthickcreamcheesedeluxepotatoestastedlikejojosWetriedranchcurrybbqsauceThecurrytastedlikehintcurryinterestingIlikedThebbqranchnormal': 235,\n",
              " 'WevisitedMcDonaldsAvenueChompsElyséesParisThecafegoodfeelservedregularMacfoodhotcoldbeverageswestarvingvegetarianfoodhavingwalkedmilesdayMacDicamerealsaviourOnlywishedburgeroptionsveg': 236,\n",
              " 'WevisitingMcDdayParisThattimetryingfindnotsoexpensivebreakfastChampElyseesWesawMcDwentNotdecidedIwantedeatIsawmuffinsIchosemuffincupcoffeeIlikeSurprisinglytastemuffindeliciousItlittlebitstickysmelledgoodIsaiddeliciousIexpectfindgoodmuffinfastfoodrestaurantfranklyspeakingclean': 237,\n",
              " 'WevisittimeChampsElyseesItslovelycleanefficientsnackquickmealbreakdaytouringSitwindowswatchactionChampsElysees': 238,\n",
              " 'WewalkedjostledpeoplewasntclearorderterminalqueueorderpersoncounterIthardleftwentroadQuickeasier': 239,\n",
              " 'WewantedgrabquickeatParisdaywantedcramlotsightseeingHavingspentlotmoneywantedcheapishlunchTheMcDonaldsChampsElyseeslikeIvisitedItunbelievablybusyableorderchoicetastyvegetarianoptionsrarityFrancelettingchapsmeatyburgerfix': 240,\n",
              " 'WewantedquickbitewrapburgersoundedgoodThisplaceterriblycrowdedIwaitedlonglineplaceorderkiosksdeclinedUScreditcardIwaitedminutesordercounterminutesfoodAfterwaitfindopentablediscoverfriescoldsaltNormallyIreturnedcomplainhotfriesthoughtbattlingcrowdstalkwontunderstandEnglishchangedmindIwalkedpastplacetimesIreturnIrecommend': 241,\n",
              " 'WewentPMdrinkfoundlineupslongserviceslowTheyservedcustomertimemeantpersongaveorderlinewaitfullycompletedpersonservedThepersonaheadorderedsaladstookminutesMostMcDonaldsaskpersonstepordercompleteorderThishappenresultinglonglinesTherestaurantdirtywastepiledtablesThetableshadntwipedsoiledketchupnastythingsThewashroomscleanIfdesperateMcDonaldsrememberlotplaceseatnearbyProbablyworstMcDonaldsIworldAndyesIreviewingcorrectMcDonalds': 242,\n",
              " 'WewentenjoyGoldenArchesfriesEasyusetouchscreenorderingButwishcleaningwipeswashscreensIsuredon’tlikeideaputtinghandsscreeneatingThenpayusebathroomWasn’tMcDonaldsfinestday': 243,\n",
              " 'WhatlocationaffordablebiteThenormalMcDonaldfareBurgersfriescolddrinksaccesswififantasticviewsmainChampsElyseesAplaceresttarryawhilebusyday': 244,\n",
              " 'WhatsorttouristgoesPariseatMcDonaldsGivenfastfoodpoorbestIunderstandpeoplewantpayripoffpricesmediocrefoodsurroundingarea': 245,\n",
              " 'WhenIvisitFranceIvisitMaccyDCBOChickenBaconOnionburgerItsimplydeliciousbestburgerinvention': 246,\n",
              " 'WhenIvisitedMcDonaldsIexcitedoptionsdon’tmenuIrelandHoweverbaconbluecheeseburgerfriesservedbarelywarmcheesewasn’tslightlymeltedbunburgerdryAlsoqueuedminutesusetoiletstalloperationfilthyblockedConsideringpriceshighcomparedMcDonaldsneedbetterIreturn': 247,\n",
              " 'WhenconsiderlocationChampsElyseesexpectbusyminutewaitincorrectlyfilledorderseatingavoid': 248,\n",
              " 'WhilevisitingParisthought’dsampledelightsGoldenArcheswhiteonesterribleThetoiletsdisgustingtinystallmaletoiletswifeunableenterladiessmellscreensstackedpeopleorderdesksIthinkludicrousgeneralcleanlinesshygieneappallingIrecommendvisit': 249,\n",
              " 'WhybotherExpensiveTakepictureGoPaulsinsteadParisianwortheating': 250,\n",
              " 'WorstMcDonaldsItsDirtycrowedTheWorkerssuperRUDETheydontmenuThetoiletnightmare': 251,\n",
              " 'WowBurgersfriesdrinksgoodworldInfactplacesrichculinaryhistorypresenceinsultsgooddecentplaceWhereChicagoNewYorkDetroitThesecitiesallowsocalledreataurantscitylimitsSinvergüenzas': 252,\n",
              " 'YesisvaMcDonaldsChampsElyseesTheyservemacaroonstastyItworthquickstop': 253,\n",
              " 'YoucantwrongMcDonaldsWhereverworldWhenneedquickbiteeatWithoutriskingfoodpoisoningmajordisappointmentChickenMcNuggetsTheyrebrandFirsttimeIvecometableserviceMaccyDWatchWimpy': 254,\n",
              " 'burgertastesgreatdifferenttastecountriesabitgourmetburgerlolIbelievequalitybetterMcDonaldsParisMacDonaldsmiddleeastseatsprovideniceviewpedestrianspassing': 255,\n",
              " 'busycrowdedpeoplestandeattablesitoutsidewalkingmcdonaldsstreet': 256,\n",
              " 'caresWehandedvoucherstreetburgerfriesdrink€5yesjunkyespackedyespeopleslippedstairsrainingbasicallyyouremiddlePariswonteatcheaperTipuseselfserviceterminalssavequeuing': 257,\n",
              " 'goingindiafigurebetterabsolutelyfiguredifferencefortunatebeefburgersMcindia': 258,\n",
              " 'gotfastorderterminalsworkingmembersstaffworkinglinefastorderingwait20minuteslisteningtalkingrudelyfrenchThankgodguywhoschargefillingcoffeemachinessupliesHeaskedmanagerserviceMaybefeelinguncomfortableoverallrestaurantgreatlocationworststaffweveseen': 259,\n",
              " 'maccydsproppercafeisidegreatvaluefrappehotdaystupendouse': 260,\n",
              " 'minutesfoodfoodcoldOnenapkinpeopleNosaucenuggetsThehamburgerbreadoldAvoidMcDonaldsWehurryfeellikegoingdownstairsaskhotdecentfood': 261,\n",
              " 'picturesallowedshakingheadsecurityforceddeletepicturesItookautomatedorderingsystemItakenpicturesmcdonaldsparisproblems': 262,\n",
              " 'poppedmcdonaldschampselyseespariswhilstholidayquickcheapfoodtheserverrudeignorantunhelpfulimpoliteunderstandaskedhertherepropersignsunsurequeuestandinhavepayusetoiletsridiculousdisgustingukusetoiletsfree': 263,\n",
              " 'servicebitfriendlyfoodokMcDsusualstandardrestaurantlookinglikepastselldate': 264,\n",
              " 'surpriseMcDonaldsChampsElyseesstreet': 265,\n",
              " 'typicalmcdonaldstypicalfareserviceironyhavingmickydchampselysee': 266,\n",
              " 'visitedParisdaystoppedwaytrainDisneylandBeautifulsunnydayfamilysatoutsidepeoplewatchedwhilstfoodorderedrestaurantbusymoderncleanplentyseatingupstairsseatingstafffriendlyusualMcDonaldsfarepluspointalcoholhubbysmealhappy': 267,\n",
              " 'visitedfridaytooklongtimeaskedladywantorderreachedcounterminuteswaitingcameyoungpeoplegirlarabguystalkedgirlcounterStepahniepersuadedhelpgirlforgetstartedhelpguysguysmistreatedwordstalkedlikesmallkidstookminutesticketordergirlcountersureorderlotwrongthingsWeolderpersonrunawaybeforeivisitparistwiceyearvisitplaceWarnedforgetplacemistreatyouasaskedmanagercomplaintoldnonethefoodcoldcoldeat': 268,\n",
              " 'wantwalkChampElyseeslightmealfastfoodgoodselectionMcDonaldsChampsElyseesniceviewstreet1stfloorseatwalkingareaviewTriumphChampsElyseesThequalityrangefoodsselectMcDonaldspurchasevendormachinesstandingques': 269}"
            ]
          },
          "metadata": {
            "tags": []
          },
          "execution_count": 688
        }
      ]
    },
    {
      "cell_type": "code",
      "metadata": {
        "id": "eHffYEGfSDIP",
        "colab_type": "code",
        "outputId": "b3f06cf2-5342-4323-d271-b8191b7296e4",
        "colab": {
          "base_uri": "https://localhost:8080/",
          "height": 34
        }
      },
      "source": [
        "print(\"Nombre de mots dans le vocabulaire : \", len(bow_transformer.vocabulary_))"
      ],
      "execution_count": 0,
      "outputs": [
        {
          "output_type": "stream",
          "text": [
            "Nombre de mots dans le vocabulaire :  270\n"
          ],
          "name": "stdout"
        }
      ]
    },
    {
      "cell_type": "code",
      "metadata": {
        "id": "MIZMfEU7SMM_",
        "colab_type": "code",
        "outputId": "11781cbf-32a9-4798-b4b2-3eae9654c2dd",
        "colab": {
          "base_uri": "https://localhost:8080/",
          "height": 54
        }
      },
      "source": [
        "commentaire = df['review_body'][3]\n",
        "print(commentaire)"
      ],
      "execution_count": 0,
      "outputs": [
        {
          "output_type": "stream",
          "text": [
            "['When', 'I', 'visited', 'McDonalds', 'I', 'excited', 'options', 'don', '’', 't', 'menu', 'Ireland', 'However', 'bacon', 'blue', 'cheese', 'burger', 'fries', 'served', 'barely', 'warm', 'cheese', 'wasn', '’', 't', 'slightly', 'melted', 'bun', 'burger', 'dry', 'Also', 'queued', 'minutes', 'use', 'toilet', 'stall', 'operation', 'filthy', 'blocked', 'Considering', 'prices', 'high', 'compared', 'McDonalds', 'need', 'better', 'I', 'return']\n"
          ],
          "name": "stdout"
        }
      ]
    },
    {
      "cell_type": "code",
      "metadata": {
        "id": "O9hbQhMjSSMH",
        "colab_type": "code",
        "outputId": "dd3e8b8c-971e-4866-fc0d-ce0be9d54f6c",
        "colab": {
          "base_uri": "https://localhost:8080/",
          "height": 34
        }
      },
      "source": [
        "print(bow_transformer.transform([commentaire]))"
      ],
      "execution_count": 0,
      "outputs": [
        {
          "output_type": "stream",
          "text": [
            "  (0, 247)\t1\n"
          ],
          "name": "stdout"
        }
      ]
    },
    {
      "cell_type": "code",
      "metadata": {
        "id": "EWzjYW1gSWGQ",
        "colab_type": "code",
        "colab": {}
      },
      "source": [
        "commentaires_bow = bow_transformer.transform(df['review_body'])"
      ],
      "execution_count": 0,
      "outputs": []
    },
    {
      "cell_type": "code",
      "metadata": {
        "id": "pRK8sTMmShB4",
        "colab_type": "code",
        "outputId": "2025ccf8-d8b9-4b8c-b194-df438351ced4",
        "colab": {
          "base_uri": "https://localhost:8080/",
          "height": 34
        }
      },
      "source": [
        "print('Taille de la matrice ', commentaires_bow.shape)"
      ],
      "execution_count": 0,
      "outputs": [
        {
          "output_type": "stream",
          "text": [
            "Taille de la matrice  (540, 270)\n"
          ],
          "name": "stdout"
        }
      ]
    },
    {
      "cell_type": "code",
      "metadata": {
        "id": "dXpRUIBZSm5A",
        "colab_type": "code",
        "outputId": "153c4afe-c567-4cf8-aa82-ec52fd380813",
        "colab": {
          "base_uri": "https://localhost:8080/",
          "height": 34
        }
      },
      "source": [
        "print(commentaires_bow.nnz)"
      ],
      "execution_count": 0,
      "outputs": [
        {
          "output_type": "stream",
          "text": [
            "540\n"
          ],
          "name": "stdout"
        }
      ]
    },
    {
      "cell_type": "markdown",
      "metadata": {
        "id": "iwXMWPPlSqfN",
        "colab_type": "text"
      },
      "source": [
        "# TF-IDF"
      ]
    },
    {
      "cell_type": "code",
      "metadata": {
        "id": "Ve5geRbnSov7",
        "colab_type": "code",
        "outputId": "9d172228-c9ab-449c-e4f5-105186619426",
        "colab": {
          "base_uri": "https://localhost:8080/",
          "height": 884
        }
      },
      "source": [
        "tfidf_transformer = TfidfTransformer().fit(commentaires_bow)\n",
        "tfidf = tfidf_transformer.transform(commentaires_bow)\n",
        "print(tfidf)"
      ],
      "execution_count": 0,
      "outputs": [
        {
          "output_type": "stream",
          "text": [
            "  (0, 49)\t1.0\n",
            "  (1, 32)\t1.0\n",
            "  (2, 243)\t1.0\n",
            "  (3, 247)\t1.0\n",
            "  (4, 187)\t1.0\n",
            "  (5, 167)\t1.0\n",
            "  (6, 23)\t1.0\n",
            "  (7, 35)\t1.0\n",
            "  (8, 142)\t1.0\n",
            "  (9, 46)\t1.0\n",
            "  (10, 49)\t1.0\n",
            "  (11, 32)\t1.0\n",
            "  (12, 243)\t1.0\n",
            "  (13, 247)\t1.0\n",
            "  (14, 187)\t1.0\n",
            "  (15, 167)\t1.0\n",
            "  (16, 23)\t1.0\n",
            "  (17, 35)\t1.0\n",
            "  (18, 142)\t1.0\n",
            "  (19, 46)\t1.0\n",
            "  (20, 108)\t1.0\n",
            "  (21, 33)\t1.0\n",
            "  (22, 14)\t1.0\n",
            "  (23, 164)\t1.0\n",
            "  (24, 235)\t1.0\n",
            "  :\t:\n",
            "  (515, 265)\t1.0\n",
            "  (516, 139)\t1.0\n",
            "  (517, 112)\t1.0\n",
            "  (518, 268)\t1.0\n",
            "  (519, 99)\t1.0\n",
            "  (520, 155)\t1.0\n",
            "  (521, 128)\t1.0\n",
            "  (522, 141)\t1.0\n",
            "  (523, 228)\t1.0\n",
            "  (524, 102)\t1.0\n",
            "  (525, 182)\t1.0\n",
            "  (526, 219)\t1.0\n",
            "  (527, 232)\t1.0\n",
            "  (528, 231)\t1.0\n",
            "  (529, 132)\t1.0\n",
            "  (530, 155)\t1.0\n",
            "  (531, 128)\t1.0\n",
            "  (532, 141)\t1.0\n",
            "  (533, 228)\t1.0\n",
            "  (534, 102)\t1.0\n",
            "  (535, 182)\t1.0\n",
            "  (536, 219)\t1.0\n",
            "  (537, 232)\t1.0\n",
            "  (538, 231)\t1.0\n",
            "  (539, 132)\t1.0\n"
          ],
          "name": "stdout"
        }
      ]
    },
    {
      "cell_type": "code",
      "metadata": {
        "id": "pcaGL95tSwVB",
        "colab_type": "code",
        "colab": {}
      },
      "source": [
        "tfidf_transformer = TfidfTransformer().fit(commentaires_bow)\n",
        "commentaires_tfidf = tfidf_transformer.transform(commentaires_bow)"
      ],
      "execution_count": 0,
      "outputs": []
    }
  ]
}