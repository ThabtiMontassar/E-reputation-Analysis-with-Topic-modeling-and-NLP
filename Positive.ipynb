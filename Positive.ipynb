{
  "nbformat": 4,
  "nbformat_minor": 0,
  "metadata": {
    "kernelspec": {
      "display_name": "Python 3",
      "language": "python",
      "name": "python3"
    },
    "language_info": {
      "codemirror_mode": {
        "name": "ipython",
        "version": 3
      },
      "file_extension": ".py",
      "mimetype": "text/x-python",
      "name": "python",
      "nbconvert_exporter": "python",
      "pygments_lexer": "ipython3",
      "version": "3.7.4"
    },
    "colab": {
      "name": "positive.ipynb",
      "provenance": [],
      "collapsed_sections": []
    }
  },
  "cells": [
    {
      "cell_type": "markdown",
      "metadata": {
        "id": "LIti5E15LdXs"
      },
      "source": [
        "# Analyse des mots extracter des reviews de nos clients de Mcdonald\n",
        "\n"
      ]
    },
    {
      "cell_type": "code",
      "metadata": {
        "id": "XaUsZ6afGaIC"
      },
      "source": [
        "from textblob import TextBlob"
      ],
      "execution_count": null,
      "outputs": []
    },
    {
      "cell_type": "code",
      "metadata": {
        "id": "Gfru5NvAGaIK"
      },
      "source": [
        "from textblob_fr import PatternTagger, PatternAnalyzer"
      ],
      "execution_count": null,
      "outputs": []
    },
    {
      "cell_type": "code",
      "metadata": {
        "id": "euWHsgRLGaIS"
      },
      "source": [
        "import pandas as pd"
      ],
      "execution_count": null,
      "outputs": []
    },
    {
      "cell_type": "markdown",
      "metadata": {
        "id": "rFaNwrnFG0u8"
      },
      "source": [
        "Importer le fichier comporant les reviews des clients Mcdonald \n"
      ]
    },
    {
      "cell_type": "code",
      "metadata": {
        "id": "DWyUT6MzGaIX"
      },
      "source": [
        "data = pd.read_csv(\"reviewfr.csv\") "
      ],
      "execution_count": null,
      "outputs": []
    },
    {
      "cell_type": "code",
      "metadata": {
        "id": "A1TcQnZ0GaId",
        "outputId": "7669355c-7666-42de-a950-a3d6e0707f25"
      },
      "source": [
        "data"
      ],
      "execution_count": null,
      "outputs": [
        {
          "output_type": "execute_result",
          "data": {
            "text/html": [
              "<div>\n",
              "<style scoped>\n",
              "    .dataframe tbody tr th:only-of-type {\n",
              "        vertical-align: middle;\n",
              "    }\n",
              "\n",
              "    .dataframe tbody tr th {\n",
              "        vertical-align: top;\n",
              "    }\n",
              "\n",
              "    .dataframe thead th {\n",
              "        text-align: right;\n",
              "    }\n",
              "</style>\n",
              "<table border=\"1\" class=\"dataframe\">\n",
              "  <thead>\n",
              "    <tr style=\"text-align: right;\">\n",
              "      <th></th>\n",
              "      <th>reviews</th>\n",
              "      <th>index</th>\n",
              "    </tr>\n",
              "  </thead>\n",
              "  <tbody>\n",
              "    <tr>\n",
              "      <td>0</td>\n",
              "      <td>Déplorable déplorable déplorable pire service ...</td>\n",
              "      <td>0</td>\n",
              "    </tr>\n",
              "    <tr>\n",
              "      <td>1</td>\n",
              "      <td>l'un des points de restauration rapides le moi...</td>\n",
              "      <td>1</td>\n",
              "    </tr>\n",
              "    <tr>\n",
              "      <td>2</td>\n",
              "      <td>je ne comprends pas les avis négatifs ! On est...</td>\n",
              "      <td>2</td>\n",
              "    </tr>\n",
              "    <tr>\n",
              "      <td>3</td>\n",
              "      <td>Bonsoir commande borne n 80 ils ont servi jusq...</td>\n",
              "      <td>3</td>\n",
              "    </tr>\n",
              "    <tr>\n",
              "      <td>4</td>\n",
              "      <td>L'enseigne Mc Donald's est connue par beaucoup...</td>\n",
              "      <td>4</td>\n",
              "    </tr>\n",
              "    <tr>\n",
              "      <td>...</td>\n",
              "      <td>...</td>\n",
              "      <td>...</td>\n",
              "    </tr>\n",
              "    <tr>\n",
              "      <td>255</td>\n",
              "      <td>Joliment décorée à l'intérieur et la nourritur...</td>\n",
              "      <td>255</td>\n",
              "    </tr>\n",
              "    <tr>\n",
              "      <td>256</td>\n",
              "      <td>Nous y avons mangé sur notre première journée ...</td>\n",
              "      <td>256</td>\n",
              "    </tr>\n",
              "    <tr>\n",
              "      <td>257</td>\n",
              "      <td>La nourriture est identique dans tous les pays...</td>\n",
              "      <td>257</td>\n",
              "    </tr>\n",
              "    <tr>\n",
              "      <td>258</td>\n",
              "      <td>Je suis le ventilateur McDonald's et c'était l...</td>\n",
              "      <td>258</td>\n",
              "    </tr>\n",
              "    <tr>\n",
              "      <td>259</td>\n",
              "      <td>Service rapide ici étant donné la taille de la...</td>\n",
              "      <td>259</td>\n",
              "    </tr>\n",
              "  </tbody>\n",
              "</table>\n",
              "<p>260 rows × 2 columns</p>\n",
              "</div>"
            ],
            "text/plain": [
              "                                               reviews  index\n",
              "0    Déplorable déplorable déplorable pire service ...      0\n",
              "1    l'un des points de restauration rapides le moi...      1\n",
              "2    je ne comprends pas les avis négatifs ! On est...      2\n",
              "3    Bonsoir commande borne n 80 ils ont servi jusq...      3\n",
              "4    L'enseigne Mc Donald's est connue par beaucoup...      4\n",
              "..                                                 ...    ...\n",
              "255  Joliment décorée à l'intérieur et la nourritur...    255\n",
              "256  Nous y avons mangé sur notre première journée ...    256\n",
              "257  La nourriture est identique dans tous les pays...    257\n",
              "258  Je suis le ventilateur McDonald's et c'était l...    258\n",
              "259  Service rapide ici étant donné la taille de la...    259\n",
              "\n",
              "[260 rows x 2 columns]"
            ]
          },
          "metadata": {
            "tags": []
          },
          "execution_count": 3
        }
      ]
    },
    {
      "cell_type": "markdown",
      "metadata": {
        "id": "3dHt9fLIG_2w"
      },
      "source": [
        "En se basant sur la bibliotheque TextBlob, une analyse de sentiment est faite à travers la polarité de chaque mot dans les reviews de nos clients\n",
        "\n"
      ]
    },
    {
      "cell_type": "code",
      "metadata": {
        "id": "ia5ms6yuGaIj"
      },
      "source": [
        "string=\"\""
      ],
      "execution_count": null,
      "outputs": []
    },
    {
      "cell_type": "code",
      "metadata": {
        "id": "l1Dn6pMdGaIo"
      },
      "source": [
        "for review in data['reviews']:\n",
        "    string=string+review"
      ],
      "execution_count": null,
      "outputs": []
    },
    {
      "cell_type": "code",
      "metadata": {
        "id": "iaRQYB9zGaIv"
      },
      "source": [
        "blob = TextBlob(string, pos_tagger=PatternTagger(), analyzer=PatternAnalyzer())"
      ],
      "execution_count": null,
      "outputs": []
    },
    {
      "cell_type": "code",
      "metadata": {
        "id": "TxwY3S0qGaI0"
      },
      "source": [
        "words=blob.words"
      ],
      "execution_count": null,
      "outputs": []
    },
    {
      "cell_type": "code",
      "metadata": {
        "id": "wfRnxHmcGaI4"
      },
      "source": [
        "rows = []\n",
        "i=0\n",
        "for x in words: \n",
        "     rows.append([x, TextBlob(x, pos_tagger=PatternTagger(), analyzer=PatternAnalyzer()).sentiment[0]])\n",
        "     i=i+1\n"
      ],
      "execution_count": null,
      "outputs": []
    },
    {
      "cell_type": "code",
      "metadata": {
        "id": "x6GKpq1vGaJF",
        "outputId": "a4fbb1aa-c339-495e-e4f1-767eed6512c7",
        "colab": {
          "base_uri": "https://localhost:8080/",
          "height": 266
        }
      },
      "source": [
        "df = pd.DataFrame(rows, columns=[\"words\", \"polarity\"])\n",
        "print(df)"
      ],
      "execution_count": null,
      "outputs": [
        {
          "output_type": "stream",
          "text": [
            "              words  polarity\n",
            "0        Déplorable     -0.15\n",
            "1        déplorable     -0.15\n",
            "2        déplorable     -0.15\n",
            "3              pire     -0.40\n",
            "4           service      0.00\n",
            "...             ...       ...\n",
            "10856         chose      0.00\n",
            "10857            de      0.00\n",
            "10858        rapide      0.35\n",
            "10859           sur      0.00\n",
            "10860  l'aller.Plus      0.00\n",
            "\n",
            "[10861 rows x 2 columns]\n"
          ],
          "name": "stdout"
        }
      ]
    },
    {
      "cell_type": "code",
      "metadata": {
        "id": "bqKV_hrAGaJK",
        "outputId": "a5469f36-706b-4e51-f9f9-9b7c71aaec7e",
        "colab": {
          "base_uri": "https://localhost:8080/",
          "height": 399
        }
      },
      "source": [
        "df"
      ],
      "execution_count": null,
      "outputs": [
        {
          "output_type": "execute_result",
          "data": {
            "text/html": [
              "<div>\n",
              "<style scoped>\n",
              "    .dataframe tbody tr th:only-of-type {\n",
              "        vertical-align: middle;\n",
              "    }\n",
              "\n",
              "    .dataframe tbody tr th {\n",
              "        vertical-align: top;\n",
              "    }\n",
              "\n",
              "    .dataframe thead th {\n",
              "        text-align: right;\n",
              "    }\n",
              "</style>\n",
              "<table border=\"1\" class=\"dataframe\">\n",
              "  <thead>\n",
              "    <tr style=\"text-align: right;\">\n",
              "      <th></th>\n",
              "      <th>words</th>\n",
              "      <th>polarity</th>\n",
              "    </tr>\n",
              "  </thead>\n",
              "  <tbody>\n",
              "    <tr>\n",
              "      <th>0</th>\n",
              "      <td>Déplorable</td>\n",
              "      <td>-0.15</td>\n",
              "    </tr>\n",
              "    <tr>\n",
              "      <th>1</th>\n",
              "      <td>déplorable</td>\n",
              "      <td>-0.15</td>\n",
              "    </tr>\n",
              "    <tr>\n",
              "      <th>2</th>\n",
              "      <td>déplorable</td>\n",
              "      <td>-0.15</td>\n",
              "    </tr>\n",
              "    <tr>\n",
              "      <th>3</th>\n",
              "      <td>pire</td>\n",
              "      <td>-0.40</td>\n",
              "    </tr>\n",
              "    <tr>\n",
              "      <th>4</th>\n",
              "      <td>service</td>\n",
              "      <td>0.00</td>\n",
              "    </tr>\n",
              "    <tr>\n",
              "      <th>...</th>\n",
              "      <td>...</td>\n",
              "      <td>...</td>\n",
              "    </tr>\n",
              "    <tr>\n",
              "      <th>10856</th>\n",
              "      <td>chose</td>\n",
              "      <td>0.00</td>\n",
              "    </tr>\n",
              "    <tr>\n",
              "      <th>10857</th>\n",
              "      <td>de</td>\n",
              "      <td>0.00</td>\n",
              "    </tr>\n",
              "    <tr>\n",
              "      <th>10858</th>\n",
              "      <td>rapide</td>\n",
              "      <td>0.35</td>\n",
              "    </tr>\n",
              "    <tr>\n",
              "      <th>10859</th>\n",
              "      <td>sur</td>\n",
              "      <td>0.00</td>\n",
              "    </tr>\n",
              "    <tr>\n",
              "      <th>10860</th>\n",
              "      <td>l'aller.Plus</td>\n",
              "      <td>0.00</td>\n",
              "    </tr>\n",
              "  </tbody>\n",
              "</table>\n",
              "<p>10861 rows × 2 columns</p>\n",
              "</div>"
            ],
            "text/plain": [
              "              words  polarity\n",
              "0        Déplorable     -0.15\n",
              "1        déplorable     -0.15\n",
              "2        déplorable     -0.15\n",
              "3              pire     -0.40\n",
              "4           service      0.00\n",
              "...             ...       ...\n",
              "10856         chose      0.00\n",
              "10857            de      0.00\n",
              "10858        rapide      0.35\n",
              "10859           sur      0.00\n",
              "10860  l'aller.Plus      0.00\n",
              "\n",
              "[10861 rows x 2 columns]"
            ]
          },
          "metadata": {
            "tags": []
          },
          "execution_count": 28
        }
      ]
    },
    {
      "cell_type": "markdown",
      "metadata": {
        "id": "pLoBdm3QHrOI"
      },
      "source": [
        "**Les mots positives ( ayant une polarité > 0.70)**"
      ]
    },
    {
      "cell_type": "code",
      "metadata": {
        "id": "JLLZls7_GaJR",
        "outputId": "12a8d729-e9a5-468d-9beb-4a6a7afc31d5",
        "colab": {
          "base_uri": "https://localhost:8080/",
          "height": 399
        }
      },
      "source": [
        "dfPos = df\n",
        "dfPos = dfPos[(dfPos.polarity >= 0.7) ]\n",
        "dfPos"
      ],
      "execution_count": null,
      "outputs": [
        {
          "output_type": "execute_result",
          "data": {
            "text/html": [
              "<div>\n",
              "<style scoped>\n",
              "    .dataframe tbody tr th:only-of-type {\n",
              "        vertical-align: middle;\n",
              "    }\n",
              "\n",
              "    .dataframe tbody tr th {\n",
              "        vertical-align: top;\n",
              "    }\n",
              "\n",
              "    .dataframe thead th {\n",
              "        text-align: right;\n",
              "    }\n",
              "</style>\n",
              "<table border=\"1\" class=\"dataframe\">\n",
              "  <thead>\n",
              "    <tr style=\"text-align: right;\">\n",
              "      <th></th>\n",
              "      <th>words</th>\n",
              "      <th>polarity</th>\n",
              "    </tr>\n",
              "  </thead>\n",
              "  <tbody>\n",
              "    <tr>\n",
              "      <th>74</th>\n",
              "      <td>agréable</td>\n",
              "      <td>0.7</td>\n",
              "    </tr>\n",
              "    <tr>\n",
              "      <th>80</th>\n",
              "      <td>parfait</td>\n",
              "      <td>0.8</td>\n",
              "    </tr>\n",
              "    <tr>\n",
              "      <th>545</th>\n",
              "      <td>bon</td>\n",
              "      <td>0.7</td>\n",
              "    </tr>\n",
              "    <tr>\n",
              "      <th>1042</th>\n",
              "      <td>agréable</td>\n",
              "      <td>0.7</td>\n",
              "    </tr>\n",
              "    <tr>\n",
              "      <th>1397</th>\n",
              "      <td>indispensable</td>\n",
              "      <td>0.8</td>\n",
              "    </tr>\n",
              "    <tr>\n",
              "      <th>...</th>\n",
              "      <td>...</td>\n",
              "      <td>...</td>\n",
              "    </tr>\n",
              "    <tr>\n",
              "      <th>10347</th>\n",
              "      <td>agréable</td>\n",
              "      <td>0.7</td>\n",
              "    </tr>\n",
              "    <tr>\n",
              "      <th>10489</th>\n",
              "      <td>bonne</td>\n",
              "      <td>0.7</td>\n",
              "    </tr>\n",
              "    <tr>\n",
              "      <th>10524</th>\n",
              "      <td>bon</td>\n",
              "      <td>0.7</td>\n",
              "    </tr>\n",
              "    <tr>\n",
              "      <th>10549</th>\n",
              "      <td>bon</td>\n",
              "      <td>0.7</td>\n",
              "    </tr>\n",
              "    <tr>\n",
              "      <th>10555</th>\n",
              "      <td>bonne</td>\n",
              "      <td>0.7</td>\n",
              "    </tr>\n",
              "  </tbody>\n",
              "</table>\n",
              "<p>87 rows × 2 columns</p>\n",
              "</div>"
            ],
            "text/plain": [
              "               words  polarity\n",
              "74          agréable       0.7\n",
              "80           parfait       0.8\n",
              "545              bon       0.7\n",
              "1042        agréable       0.7\n",
              "1397   indispensable       0.8\n",
              "...              ...       ...\n",
              "10347       agréable       0.7\n",
              "10489          bonne       0.7\n",
              "10524            bon       0.7\n",
              "10549            bon       0.7\n",
              "10555          bonne       0.7\n",
              "\n",
              "[87 rows x 2 columns]"
            ]
          },
          "metadata": {
            "tags": []
          },
          "execution_count": 31
        }
      ]
    },
    {
      "cell_type": "markdown",
      "metadata": {
        "id": "FbdUDj_KJtUB"
      },
      "source": [
        "Les mots negatives ( ayant une polarité < -0.1)\n"
      ]
    },
    {
      "cell_type": "code",
      "metadata": {
        "id": "Bs6Y0XU9GaJV",
        "outputId": "a77ea285-7176-470d-e011-1dc194e43318",
        "colab": {
          "base_uri": "https://localhost:8080/",
          "height": 546
        }
      },
      "source": [
        "# PS : j'ai choisis -0.1 vu qu'il y'a bcp d'avis negatives et donc le plot en dessous prends trop de temps a charger (-0.1 peut etre changer)\n",
        "dfNeg = df\n",
        "dfNeg = dfNeg[(dfNeg.polarity <= -1.0) ]\n",
        "dfNeg"
      ],
      "execution_count": null,
      "outputs": [
        {
          "output_type": "execute_result",
          "data": {
            "text/html": [
              "<div>\n",
              "<style scoped>\n",
              "    .dataframe tbody tr th:only-of-type {\n",
              "        vertical-align: middle;\n",
              "    }\n",
              "\n",
              "    .dataframe tbody tr th {\n",
              "        vertical-align: top;\n",
              "    }\n",
              "\n",
              "    .dataframe thead th {\n",
              "        text-align: right;\n",
              "    }\n",
              "</style>\n",
              "<table border=\"1\" class=\"dataframe\">\n",
              "  <thead>\n",
              "    <tr style=\"text-align: right;\">\n",
              "      <th></th>\n",
              "      <th>words</th>\n",
              "      <th>polarity</th>\n",
              "    </tr>\n",
              "  </thead>\n",
              "  <tbody>\n",
              "    <tr>\n",
              "      <th>888</th>\n",
              "      <td>horrible</td>\n",
              "      <td>-1.0</td>\n",
              "    </tr>\n",
              "    <tr>\n",
              "      <th>1081</th>\n",
              "      <td>déçus</td>\n",
              "      <td>-1.0</td>\n",
              "    </tr>\n",
              "    <tr>\n",
              "      <th>2001</th>\n",
              "      <td>déçu</td>\n",
              "      <td>-1.0</td>\n",
              "    </tr>\n",
              "    <tr>\n",
              "      <th>3502</th>\n",
              "      <td>déçue</td>\n",
              "      <td>-1.0</td>\n",
              "    </tr>\n",
              "    <tr>\n",
              "      <th>3905</th>\n",
              "      <td>déçu</td>\n",
              "      <td>-1.0</td>\n",
              "    </tr>\n",
              "    <tr>\n",
              "      <th>4001</th>\n",
              "      <td>déçu</td>\n",
              "      <td>-1.0</td>\n",
              "    </tr>\n",
              "    <tr>\n",
              "      <th>4031</th>\n",
              "      <td>horrible</td>\n",
              "      <td>-1.0</td>\n",
              "    </tr>\n",
              "    <tr>\n",
              "      <th>4073</th>\n",
              "      <td>déçu</td>\n",
              "      <td>-1.0</td>\n",
              "    </tr>\n",
              "    <tr>\n",
              "      <th>4948</th>\n",
              "      <td>déçue</td>\n",
              "      <td>-1.0</td>\n",
              "    </tr>\n",
              "    <tr>\n",
              "      <th>5056</th>\n",
              "      <td>déçue</td>\n",
              "      <td>-1.0</td>\n",
              "    </tr>\n",
              "    <tr>\n",
              "      <th>5469</th>\n",
              "      <td>horrible</td>\n",
              "      <td>-1.0</td>\n",
              "    </tr>\n",
              "    <tr>\n",
              "      <th>5606</th>\n",
              "      <td>dégueulasse</td>\n",
              "      <td>-1.0</td>\n",
              "    </tr>\n",
              "    <tr>\n",
              "      <th>5662</th>\n",
              "      <td>déçu</td>\n",
              "      <td>-1.0</td>\n",
              "    </tr>\n",
              "    <tr>\n",
              "      <th>6125</th>\n",
              "      <td>déçue</td>\n",
              "      <td>-1.0</td>\n",
              "    </tr>\n",
              "    <tr>\n",
              "      <th>7409</th>\n",
              "      <td>déçu</td>\n",
              "      <td>-1.0</td>\n",
              "    </tr>\n",
              "    <tr>\n",
              "      <th>8738</th>\n",
              "      <td>déçus</td>\n",
              "      <td>-1.0</td>\n",
              "    </tr>\n",
              "    <tr>\n",
              "      <th>10622</th>\n",
              "      <td>déçu</td>\n",
              "      <td>-1.0</td>\n",
              "    </tr>\n",
              "  </tbody>\n",
              "</table>\n",
              "</div>"
            ],
            "text/plain": [
              "             words  polarity\n",
              "888       horrible      -1.0\n",
              "1081         déçus      -1.0\n",
              "2001          déçu      -1.0\n",
              "3502         déçue      -1.0\n",
              "3905          déçu      -1.0\n",
              "4001          déçu      -1.0\n",
              "4031      horrible      -1.0\n",
              "4073          déçu      -1.0\n",
              "4948         déçue      -1.0\n",
              "5056         déçue      -1.0\n",
              "5469      horrible      -1.0\n",
              "5606   dégueulasse      -1.0\n",
              "5662          déçu      -1.0\n",
              "6125         déçue      -1.0\n",
              "7409          déçu      -1.0\n",
              "8738         déçus      -1.0\n",
              "10622         déçu      -1.0"
            ]
          },
          "metadata": {
            "tags": []
          },
          "execution_count": 32
        }
      ]
    },
    {
      "cell_type": "markdown",
      "metadata": {
        "id": "MJQ5SNjMKgs_"
      },
      "source": [
        "\n",
        "# La visualisation \n"
      ]
    },
    {
      "cell_type": "code",
      "metadata": {
        "id": "NQLSbATjGaJg",
        "outputId": "cb95864c-d4aa-4b2b-ac12-986b19a4b8be",
        "colab": {
          "base_uri": "https://localhost:8080/",
          "height": 52
        }
      },
      "source": [
        "import matplotlib.pyplot as plt\n",
        "plot_size = plt.rcParams[\"figure.figsize\"] \n",
        "print(plot_size[0]) \n",
        "print(plot_size[1])\n",
        "\n",
        "plot_size[0] = 20\n",
        "plot_size[1] = 10\n",
        "plt.rcParams[\"figure.figsize\"] = plot_size "
      ],
      "execution_count": null,
      "outputs": [
        {
          "output_type": "stream",
          "text": [
            "20\n",
            "10\n"
          ],
          "name": "stdout"
        }
      ]
    },
    {
      "cell_type": "markdown",
      "metadata": {
        "id": "x7s6XHv-K2qF"
      },
      "source": [
        "## Les mots positives : "
      ]
    },
    {
      "cell_type": "code",
      "metadata": {
        "id": "-m9HX0pSGaJm",
        "outputId": "b9943d4e-c076-4aa8-f089-322f2310d0f2",
        "colab": {
          "base_uri": "https://localhost:8080/",
          "height": 683
        }
      },
      "source": [
        "plt =  dfPos.groupby(['words', 'polarity']).polarity.count().unstack()\n",
        "plt.plot(kind='bar')"
      ],
      "execution_count": null,
      "outputs": [
        {
          "output_type": "execute_result",
          "data": {
            "text/plain": [
              "<matplotlib.axes._subplots.AxesSubplot at 0x7f42129f9b70>"
            ]
          },
          "metadata": {
            "tags": []
          },
          "execution_count": 36
        },
        {
          "output_type": "display_data",
          "data": {
            "image/png": "[encoded data removed]",
            "text/plain": [
              "<Figure size 1440x720 with 1 Axes>"
            ]
          },
          "metadata": {
            "tags": [],
            "needs_background": "light"
          }
        }
      ]
    },
    {
      "cell_type": "markdown",
      "metadata": {
        "id": "T1Tl9c2ZLQ8v"
      },
      "source": [
        "## Les mots negatives\n"
      ]
    },
    {
      "cell_type": "code",
      "metadata": {
        "id": "zCldFZqPGaJs"
      },
      "source": [
        "import matplotlib.pyplot as plt\n",
        "plot_size = plt.rcParams[\"figure.figsize\"] \n",
        "print(plot_size[0]) \n",
        "print(plot_size[1])\n",
        "\n",
        "plot_size[0] = 20\n",
        "plot_size[1] = 10\n",
        "plt.rcParams[\"figure.figsize\"] = plot_size "
      ],
      "execution_count": null,
      "outputs": []
    },
    {
      "cell_type": "code",
      "metadata": {
        "id": "SR5w8CXpGaJ1"
      },
      "source": [
        "plt =  dfNeg.groupby(['words', 'polarity']).polarity.count().unstack()\n",
        "plt.plot(kind='bar')"
      ],
      "execution_count": null,
      "outputs": []
    },
    {
      "cell_type": "code",
      "metadata": {
        "id": "emAyngb6GaJ6"
      },
      "source": [
        ""
      ],
      "execution_count": null,
      "outputs": []
    }
  ]
}